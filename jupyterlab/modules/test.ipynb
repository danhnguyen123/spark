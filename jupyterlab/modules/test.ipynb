{
 "cells": [
  {
   "cell_type": "code",
   "execution_count": 7,
   "metadata": {},
   "outputs": [],
   "source": [
    "import json, pprint, requests, textwrap\n",
    "host = 'http://localhost:8998'\n",
    "statements_url = host + '/sessions'\n",
    "# data = {'kind': 'spark'}\n",
    "headers = {'Content-Type': 'application/json'}\n",
    "\n",
    "\n",
    "# {u'id': 12,\n",
    "# u'output': {u'data': {u'text/plain': u'Pi is roughly 3.136000'},\n",
    "#             u'execution_count': 12,\n",
    "#             u'status': u'ok'},\n",
    "# u'state': u'running'}"
   ]
  },
  {
   "cell_type": "code",
   "execution_count": 8,
   "metadata": {},
   "outputs": [
    {
     "name": "stdout",
     "output_type": "stream",
     "text": [
      "('Unrecognized field \"code\" (class '\n",
      " 'org.apache.livy.server.interactive.CreateInteractiveRequest), not marked as '\n",
      " 'ignorable (15 known properties: \"executorCores\", \"conf\", \"driverMemory\", '\n",
      " '\"name\", \"driverCores\", \"pyFiles\", \"archives\", \"kind\", \"files\", \"jars\", '\n",
      " '\"proxyUser\", \"numExecutors\", \"heartbeatTimeoutInSecond\", \"queue\", '\n",
      " '\"executorMemory\"])\\n'\n",
      " ' at [Source: (org.eclipse.jetty.server.HttpInputOverHTTP); line: 1, column: '\n",
      " '30] (through reference chain: '\n",
      " 'org.apache.livy.server.interactive.CreateInteractiveRequest[\"code\"])')\n"
     ]
    }
   ],
   "source": [
    "data = {\n",
    "  \"kind\": \"pyspark\",\n",
    "  \"code\": \"for i in range(1,10): print(i)\"\n",
    "}\n",
    "\n",
    "r = requests.post(url = statements_url, data=json.dumps(data), headers=headers)\n",
    "pprint.pprint(r.json())"
   ]
  },
  {
   "cell_type": "code",
   "execution_count": 5,
   "metadata": {},
   "outputs": [
    {
     "data": {
      "text/plain": [
       "{'id': 2,\n",
       " 'name': None,\n",
       " 'appId': None,\n",
       " 'owner': None,\n",
       " 'proxyUser': None,\n",
       " 'state': 'starting',\n",
       " 'kind': 'pyspark',\n",
       " 'appInfo': {'driverLogUrl': None, 'sparkUiUrl': None},\n",
       " 'log': ['stdout: ', '\\nstderr: ']}"
      ]
     },
     "execution_count": 5,
     "metadata": {},
     "output_type": "execute_result"
    }
   ],
   "source": [
    "data = {'kind': 'pyspark'}\n",
    "r = requests.post(host + '/sessions', data=json.dumps(data), headers=headers)\n",
    "r.json()"
   ]
  },
  {
   "cell_type": "code",
   "execution_count": 6,
   "metadata": {},
   "outputs": [
    {
     "ename": "NameError",
     "evalue": "name 'curl' is not defined",
     "output_type": "error",
     "traceback": [
      "\u001b[1;31m---------------------------------------------------------------------------\u001b[0m",
      "\u001b[1;31mNameError\u001b[0m                                 Traceback (most recent call last)",
      "\u001b[1;32m~\\AppData\\Local\\Temp/ipykernel_15124/68718566.py\u001b[0m in \u001b[0;36m<module>\u001b[1;34m\u001b[0m\n\u001b[1;32m----> 1\u001b[1;33m \u001b[0mcurl\u001b[0m\u001b[1;33m\u001b[0m\u001b[1;33m\u001b[0m\u001b[0m\n\u001b[0m",
      "\u001b[1;31mNameError\u001b[0m: name 'curl' is not defined"
     ]
    }
   ],
   "source": [
    "curl"
   ]
  }
 ],
 "metadata": {
  "kernelspec": {
   "display_name": "Python 3.9.7 ('base')",
   "language": "python",
   "name": "python3"
  },
  "language_info": {
   "codemirror_mode": {
    "name": "ipython",
    "version": 3
   },
   "file_extension": ".py",
   "mimetype": "text/x-python",
   "name": "python",
   "nbconvert_exporter": "python",
   "pygments_lexer": "ipython3",
   "version": "3.9.7"
  },
  "orig_nbformat": 4,
  "vscode": {
   "interpreter": {
    "hash": "2f155fbeb9494e5ce992090b8427abe3542dae7719d8ea0d05cb0b78608edd18"
   }
  }
 },
 "nbformat": 4,
 "nbformat_minor": 2
}
