{
 "cells": [
  {
   "cell_type": "code",
   "execution_count": 1,
   "metadata": {},
   "outputs": [],
   "source": [
    "from pyspark.sql import SparkSession\n",
    "from pyspark.sql import SQLContext\n",
    "from pyspark.sql.functions import when, col, lit\n",
    "from pyspark.sql.types import * \n",
    "import pandas as pd\n",
    "import pyspark.sql.functions as sf"
   ]
  },
  {
   "cell_type": "code",
   "execution_count": 2,
   "metadata": {},
   "outputs": [],
   "source": [
    "from helper import spark_helper"
   ]
  },
  {
   "cell_type": "code",
   "execution_count": 3,
   "metadata": {},
   "outputs": [
    {
     "name": "stderr",
     "output_type": "stream",
     "text": [
      "22/10/16 17:38:23 WARN NativeCodeLoader: Unable to load native-hadoop library for your platform... using builtin-java classes where applicable\n",
      "Using Spark's default log4j profile: org/apache/spark/log4j-defaults.properties\n",
      "Setting default log level to \"WARN\".\n",
      "To adjust logging level use sc.setLogLevel(newLevel). For SparkR, use setLogLevel(newLevel).\n"
     ]
    }
   ],
   "source": [
    "spark = spark_helper.get_spark_context(\"Class4\")"
   ]
  },
  {
   "cell_type": "code",
   "execution_count": 4,
   "metadata": {},
   "outputs": [],
   "source": [
    "path = '/opt/workspace/data/'\n",
    "file_name = '20220401.json'\n",
    "date = '2022-04-01'"
   ]
  },
  {
   "cell_type": "code",
   "execution_count": 5,
   "metadata": {},
   "outputs": [
    {
     "name": "stderr",
     "output_type": "stream",
     "text": [
      "                                                                                \r"
     ]
    },
    {
     "name": "stdout",
     "output_type": "stream",
     "text": [
      "+---------+-----------+-------------+----------+\n",
      "| Contract|       Type|TotalDuration|      Date|\n",
      "+---------+-----------+-------------+----------+\n",
      "|HNH579912|Truyền Hình|          254|2022-04-01|\n",
      "|HUFD40665|Truyền Hình|         1457|2022-04-01|\n",
      "|HNH572635|Truyền Hình|         2318|2022-04-01|\n",
      "|HND141717|Truyền Hình|         1452|2022-04-01|\n",
      "|HNH743103|Truyền Hình|          251|2022-04-01|\n",
      "|HNH893773|Truyền Hình|          924|2022-04-01|\n",
      "|HND083642|Truyền Hình|         1444|2022-04-01|\n",
      "|DNFD74404|Truyền Hình|          691|2022-04-01|\n",
      "|DTFD21200|Truyền Hình|         1436|2022-04-01|\n",
      "|LDFD05747|Truyền Hình|         1434|2022-04-01|\n",
      "|HNH063566|Truyền Hình|          687|2022-04-01|\n",
      "|HNH866786|Truyền Hình|          248|2022-04-01|\n",
      "|NBAAA1128|Truyền Hình|          247|2022-04-01|\n",
      "|HNH960439|Truyền Hình|          683|2022-04-01|\n",
      "|HNJ035736|Truyền Hình|          246|2022-04-01|\n",
      "|NTFD93673|Truyền Hình|         2288|2022-04-01|\n",
      "|HNJ063267|Truyền Hình|         2282|2022-04-01|\n",
      "|HNH790383|Truyền Hình|          906|2022-04-01|\n",
      "|THFD12466|Truyền Hình|          242|2022-04-01|\n",
      "|HNH566080|Truyền Hình|          242|2022-04-01|\n",
      "+---------+-----------+-------------+----------+\n",
      "only showing top 20 rows\n",
      "\n"
     ]
    }
   ],
   "source": [
    "df = spark.read.json(path+file_name)\n",
    "df = df.select('_source.AppName','_source.Contract','_source.Mac','_source.TotalDuration')\n",
    "df = df.withColumn('Date',lit(date))\n",
    "df = df.withColumn('Type',\n",
    "                when((col(\"AppName\") == 'CHANNEL') | (col(\"AppName\") =='DSHD')| (col(\"AppName\") =='KPLUS')| (col(\"AppName\") =='KPlus'), \"Truyền Hình\")\n",
    "        .when((col(\"AppName\") == 'VOD') | (col(\"AppName\") =='FIMS_RES')| (col(\"AppName\") =='BHD_RES')| \n",
    "                (col(\"AppName\") =='VOD_RES')| (col(\"AppName\") =='FIMS')| (col(\"AppName\") =='BHD')| (col(\"AppName\") =='DANET'), \"Phim Truyện\")\n",
    "        .when((col(\"AppName\") == 'RELAX'), \"Giải Trí\")\n",
    "        .when((col(\"AppName\") == 'CHILD'), \"Thiếu Nhi\")\n",
    "        .when((col(\"AppName\") == 'SPORT'), \"Thể Thao\")\n",
    "        .otherwise(\"Error\"))\n",
    "df = df.select('Contract','Type','TotalDuration','Date')\n",
    "# df = df.groupBy('Contract','Type','Date').agg({'TotalDuration':'sum'}).withColumnRenamed('sum(TotalDuration)','TotalDuration')\n",
    "\n",
    "df.show()"
   ]
  },
  {
   "cell_type": "code",
   "execution_count": 6,
   "metadata": {},
   "outputs": [],
   "source": [
    "df = df.cache()"
   ]
  },
  {
   "cell_type": "code",
   "execution_count": 9,
   "metadata": {},
   "outputs": [
    {
     "name": "stderr",
     "output_type": "stream",
     "text": [
      "[Stage 2:>                                                          (0 + 1) / 1]\r"
     ]
    },
    {
     "name": "stdout",
     "output_type": "stream",
     "text": [
      "+---------+-----------+-------------+----------+\n",
      "| Contract|       Type|TotalDuration|      Date|\n",
      "+---------+-----------+-------------+----------+\n",
      "|HNH579912|Truyền Hình|          254|2022-04-01|\n",
      "|HUFD40665|Truyền Hình|         1457|2022-04-01|\n",
      "|HNH572635|Truyền Hình|         2318|2022-04-01|\n",
      "|HND141717|Truyền Hình|         1452|2022-04-01|\n",
      "|HNH743103|Truyền Hình|          251|2022-04-01|\n",
      "|HNH893773|Truyền Hình|          924|2022-04-01|\n",
      "|HND083642|Truyền Hình|         1444|2022-04-01|\n",
      "|DNFD74404|Truyền Hình|          691|2022-04-01|\n",
      "|DTFD21200|Truyền Hình|         1436|2022-04-01|\n",
      "|LDFD05747|Truyền Hình|         1434|2022-04-01|\n",
      "|HNH063566|Truyền Hình|          687|2022-04-01|\n",
      "|HNH866786|Truyền Hình|          248|2022-04-01|\n",
      "|NBAAA1128|Truyền Hình|          247|2022-04-01|\n",
      "|HNH960439|Truyền Hình|          683|2022-04-01|\n",
      "|HNJ035736|Truyền Hình|          246|2022-04-01|\n",
      "|NTFD93673|Truyền Hình|         2288|2022-04-01|\n",
      "|HNJ063267|Truyền Hình|         2282|2022-04-01|\n",
      "|HNH790383|Truyền Hình|          906|2022-04-01|\n",
      "|THFD12466|Truyền Hình|          242|2022-04-01|\n",
      "|HNH566080|Truyền Hình|          242|2022-04-01|\n",
      "+---------+-----------+-------------+----------+\n",
      "only showing top 20 rows\n",
      "\n"
     ]
    },
    {
     "name": "stderr",
     "output_type": "stream",
     "text": [
      "                                                                                \r"
     ]
    }
   ],
   "source": [
    "df.select('Contract','Type','TotalDuration','Date').show()"
   ]
  },
  {
   "cell_type": "code",
   "execution_count": 10,
   "metadata": {},
   "outputs": [
    {
     "name": "stderr",
     "output_type": "stream",
     "text": [
      "                                                                                \r"
     ]
    },
    {
     "data": {
      "text/plain": [
       "1360622"
      ]
     },
     "execution_count": 10,
     "metadata": {},
     "output_type": "execute_result"
    }
   ],
   "source": [
    "df.select('Contract').distinct().count()"
   ]
  },
  {
   "cell_type": "code",
   "execution_count": 11,
   "metadata": {},
   "outputs": [],
   "source": [
    "daily_statistic = df.groupBy('Date','Type').agg({'TotalDuration':'sum','Contract':'count'}).withColumnRenamed('sum(TotalDuration)','TotalDuration').withColumnRenamed('count(Contract)','TotalUsers')"
   ]
  },
  {
   "cell_type": "code",
   "execution_count": 12,
   "metadata": {},
   "outputs": [
    {
     "name": "stderr",
     "output_type": "stream",
     "text": [
      "                                                                                \r"
     ]
    },
    {
     "name": "stdout",
     "output_type": "stream",
     "text": [
      "+----------+-----------+----------+-------------+\n",
      "|      Date|       Type|TotalUsers|TotalDuration|\n",
      "+----------+-----------+----------+-------------+\n",
      "|2022-04-01|Phim Truyện|     89040|    627150472|\n",
      "|2022-04-01|Truyền Hình|   1523013|  25210339682|\n",
      "|2022-04-01|   Giải Trí|      6445|     20907906|\n",
      "|2022-04-01|  Thiếu Nhi|     33723|    178570178|\n",
      "|2022-04-01|   Thể Thao|      2298|      1166238|\n",
      "+----------+-----------+----------+-------------+\n",
      "\n"
     ]
    }
   ],
   "source": [
    "daily_statistic.show()"
   ]
  },
  {
   "cell_type": "code",
   "execution_count": 13,
   "metadata": {},
   "outputs": [
    {
     "name": "stderr",
     "output_type": "stream",
     "text": [
      "[Stage 25:=========================================>              (56 + 4) / 75]\r"
     ]
    },
    {
     "name": "stdout",
     "output_type": "stream",
     "text": [
      "+----------+-----------+----------+------------------+\n",
      "|      Date|       Type|TotalUsers|     TotalDuration|\n",
      "+----------+-----------+----------+------------------+\n",
      "|2022-04-01|Phim Truyện|     89040|174208.46444444446|\n",
      "|2022-04-01|Truyền Hình|   1523013| 7002872.133888889|\n",
      "|2022-04-01|   Giải Trí|      6445| 5807.751666666667|\n",
      "|2022-04-01|  Thiếu Nhi|     33723| 49602.82722222222|\n",
      "|2022-04-01|   Thể Thao|      2298|           323.955|\n",
      "+----------+-----------+----------+------------------+\n",
      "\n"
     ]
    },
    {
     "name": "stderr",
     "output_type": "stream",
     "text": [
      "                                                                                \r"
     ]
    }
   ],
   "source": [
    "daily_statistic.withColumn('TotalDuration',col('TotalDuration')/3600).show()"
   ]
  },
  {
   "cell_type": "code",
   "execution_count": 14,
   "metadata": {},
   "outputs": [
    {
     "name": "stderr",
     "output_type": "stream",
     "text": [
      "                                                                                \r"
     ]
    }
   ],
   "source": [
    "df.repartition(2).write.csv('/opt/workspace/data/df',header=True)"
   ]
  },
  {
   "cell_type": "code",
   "execution_count": 15,
   "metadata": {},
   "outputs": [
    {
     "name": "stderr",
     "output_type": "stream",
     "text": [
      "                                                                                \r"
     ]
    }
   ],
   "source": [
    "visual_1 = daily_statistic.toPandas()"
   ]
  },
  {
   "cell_type": "code",
   "execution_count": 16,
   "metadata": {},
   "outputs": [
    {
     "data": {
      "text/html": [
       "<div>\n",
       "<style scoped>\n",
       "    .dataframe tbody tr th:only-of-type {\n",
       "        vertical-align: middle;\n",
       "    }\n",
       "\n",
       "    .dataframe tbody tr th {\n",
       "        vertical-align: top;\n",
       "    }\n",
       "\n",
       "    .dataframe thead th {\n",
       "        text-align: right;\n",
       "    }\n",
       "</style>\n",
       "<table border=\"1\" class=\"dataframe\">\n",
       "  <thead>\n",
       "    <tr style=\"text-align: right;\">\n",
       "      <th></th>\n",
       "      <th>Date</th>\n",
       "      <th>Type</th>\n",
       "      <th>TotalUsers</th>\n",
       "      <th>TotalDuration</th>\n",
       "    </tr>\n",
       "  </thead>\n",
       "  <tbody>\n",
       "    <tr>\n",
       "      <th>0</th>\n",
       "      <td>2022-04-01</td>\n",
       "      <td>Phim Truyện</td>\n",
       "      <td>89040</td>\n",
       "      <td>627150472</td>\n",
       "    </tr>\n",
       "    <tr>\n",
       "      <th>1</th>\n",
       "      <td>2022-04-01</td>\n",
       "      <td>Truyền Hình</td>\n",
       "      <td>1523013</td>\n",
       "      <td>25210339682</td>\n",
       "    </tr>\n",
       "    <tr>\n",
       "      <th>2</th>\n",
       "      <td>2022-04-01</td>\n",
       "      <td>Giải Trí</td>\n",
       "      <td>6445</td>\n",
       "      <td>20907906</td>\n",
       "    </tr>\n",
       "    <tr>\n",
       "      <th>3</th>\n",
       "      <td>2022-04-01</td>\n",
       "      <td>Thiếu Nhi</td>\n",
       "      <td>33723</td>\n",
       "      <td>178570178</td>\n",
       "    </tr>\n",
       "    <tr>\n",
       "      <th>4</th>\n",
       "      <td>2022-04-01</td>\n",
       "      <td>Thể Thao</td>\n",
       "      <td>2298</td>\n",
       "      <td>1166238</td>\n",
       "    </tr>\n",
       "  </tbody>\n",
       "</table>\n",
       "</div>"
      ],
      "text/plain": [
       "         Date         Type  TotalUsers  TotalDuration\n",
       "0  2022-04-01  Phim Truyện       89040      627150472\n",
       "1  2022-04-01  Truyền Hình     1523013    25210339682\n",
       "2  2022-04-01     Giải Trí        6445       20907906\n",
       "3  2022-04-01    Thiếu Nhi       33723      178570178\n",
       "4  2022-04-01     Thể Thao        2298        1166238"
      ]
     },
     "execution_count": 16,
     "metadata": {},
     "output_type": "execute_result"
    }
   ],
   "source": [
    "visual_1"
   ]
  }
 ],
 "metadata": {
  "kernelspec": {
   "display_name": "Python 3 (ipykernel)",
   "language": "python",
   "name": "python3"
  },
  "language_info": {
   "codemirror_mode": {
    "name": "ipython",
    "version": 3
   },
   "file_extension": ".py",
   "mimetype": "text/x-python",
   "name": "python",
   "nbconvert_exporter": "python",
   "pygments_lexer": "ipython3",
   "version": "3.8.15"
  },
  "orig_nbformat": 4,
  "vscode": {
   "interpreter": {
    "hash": "2f155fbeb9494e5ce992090b8427abe3542dae7719d8ea0d05cb0b78608edd18"
   }
  }
 },
 "nbformat": 4,
 "nbformat_minor": 2
}
