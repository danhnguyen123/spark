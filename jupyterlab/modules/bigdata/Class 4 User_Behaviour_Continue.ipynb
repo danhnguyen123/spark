{
 "cells": [
  {
   "cell_type": "code",
   "execution_count": 1,
   "metadata": {},
   "outputs": [],
   "source": [
    "from pyspark.sql import SparkSession\n",
    "from pyspark.sql import SQLContext\n",
    "from pyspark.sql.functions import when\n",
    "from pyspark.sql.functions import col\n",
    "from pyspark.sql.types import * \n",
    "from pyspark.sql.functions import lit\n",
    "import pyodbc\n",
    "import pandas as pd\n",
    "import pyspark.sql.functions as sf\n"
   ]
  },
  {
   "cell_type": "code",
   "execution_count": 2,
   "metadata": {},
   "outputs": [],
   "source": [
    "spark = SparkSession.builder.config(\"spark.driver.memory\", \"15g\").getOrCreate()"
   ]
  },
  {
   "cell_type": "code",
   "execution_count": 3,
   "metadata": {},
   "outputs": [],
   "source": [
    "df = spark.read.csv('C:\\\\Users\\\\ASUS\\\\OneDrive\\\\Big_Data_Analytics\\\\BigData_Gen2\\\\Class 4\\\\DF_clean\\\\*.csv',header=True)"
   ]
  },
  {
   "cell_type": "code",
   "execution_count": 4,
   "metadata": {},
   "outputs": [
    {
     "name": "stdout",
     "output_type": "stream",
     "text": [
      "+---------+-----------+----------+-------------+\n",
      "| Contract|       Type|      Date|TotalDuration|\n",
      "+---------+-----------+----------+-------------+\n",
      "|HNJ141458|Truyền Hình|2022-04-01|        47349|\n",
      "|SGJ147370|Truyền Hình|2022-04-01|        83331|\n",
      "|HNFD80728|Truyền Hình|2022-04-01|        91636|\n",
      "|SGH574803|Truyền Hình|2022-04-01|       113492|\n",
      "|NTFD92901|Truyền Hình|2022-04-01|        18944|\n",
      "|TBD015606|Phim Truyện|2022-04-01|        20586|\n",
      "|AGFD54302|Truyền Hình|2022-04-01|        11860|\n",
      "|SGH919014|Truyền Hình|2022-04-01|        55429|\n",
      "|NTFD63152|Truyền Hình|2022-04-01|        18886|\n",
      "|BTFD15886|Phim Truyện|2022-04-01|         6007|\n",
      "|HND095909|Phim Truyện|2022-04-01|        16441|\n",
      "|SGH209300|Truyền Hình|2022-04-01|        25527|\n",
      "|NND000787|Truyền Hình|2022-04-01|          175|\n",
      "|DNFD68426|Phim Truyện|2022-04-01|         3563|\n",
      "|CBFD05588|Truyền Hình|2022-04-01|        62005|\n",
      "|HTFD01984|Truyền Hình|2022-04-01|        81976|\n",
      "|GLD014406|Truyền Hình|2022-04-01|        81937|\n",
      "|DNAAA1260|Truyền Hình|2022-04-01|        18791|\n",
      "|HNAAA7079|Truyền Hình|2022-04-01|        23953|\n",
      "|NDFD27791|Phim Truyện|2022-04-01|         6621|\n",
      "+---------+-----------+----------+-------------+\n",
      "only showing top 20 rows\n",
      "\n"
     ]
    }
   ],
   "source": [
    "df.show()"
   ]
  },
  {
   "cell_type": "code",
   "execution_count": 5,
   "metadata": {},
   "outputs": [],
   "source": [
    "df = df.drop('Date')"
   ]
  },
  {
   "cell_type": "code",
   "execution_count": 6,
   "metadata": {},
   "outputs": [],
   "source": [
    "df = df.groupBy('Contract','Type').agg({'TotalDuration':'sum'}).withColumnRenamed('sum(TotalDuration)','TotalDuration')"
   ]
  },
  {
   "cell_type": "code",
   "execution_count": 7,
   "metadata": {},
   "outputs": [
    {
     "name": "stdout",
     "output_type": "stream",
     "text": [
      "+---------+-----------+-------------+\n",
      "| Contract|       Type|TotalDuration|\n",
      "+---------+-----------+-------------+\n",
      "|BNFD59512|Truyền Hình|     153698.0|\n",
      "|TVFD16705|Truyền Hình|      44385.0|\n",
      "|HPFD98012|Truyền Hình|     133127.0|\n",
      "|DNH022378|Truyền Hình|    2092483.0|\n",
      "|QNFD70139|Truyền Hình|     191407.0|\n",
      "|HNH775587|Truyền Hình|     131193.0|\n",
      "|SGH534557|Truyền Hình|     393271.0|\n",
      "|BEFD03370|   Giải Trí|       6550.0|\n",
      "|KTFD03928|Phim Truyện|       7409.0|\n",
      "|SGH694318|Truyền Hình|     891425.0|\n",
      "|HNH480736|Truyền Hình|     734792.0|\n",
      "|HPFD59060|Truyền Hình|     147633.0|\n",
      "|HNH643441|Truyền Hình|     100405.0|\n",
      "|LAFD14563|Truyền Hình|     287877.0|\n",
      "|QAD014188|Truyền Hình|     410384.0|\n",
      "|BDD054548|Truyền Hình|     637793.0|\n",
      "|TBD018795|Truyền Hình|     350296.0|\n",
      "|HNH760579|Truyền Hình|     303952.0|\n",
      "|GLAAA0362|Truyền Hình|     504477.0|\n",
      "|SGH978411|Truyền Hình|     103046.0|\n",
      "+---------+-----------+-------------+\n",
      "only showing top 20 rows\n",
      "\n"
     ]
    }
   ],
   "source": [
    "df.show()"
   ]
  },
  {
   "cell_type": "code",
   "execution_count": 8,
   "metadata": {},
   "outputs": [
    {
     "data": {
      "text/plain": [
       "2729281"
      ]
     },
     "execution_count": 8,
     "metadata": {},
     "output_type": "execute_result"
    }
   ],
   "source": [
    "df.count()"
   ]
  },
  {
   "cell_type": "code",
   "execution_count": 10,
   "metadata": {},
   "outputs": [
    {
     "name": "stdout",
     "output_type": "stream",
     "text": [
      "+-----------+\n",
      "|       Type|\n",
      "+-----------+\n",
      "|   Thể Thao|\n",
      "|Truyền Hình|\n",
      "|  Thiếu Nhi|\n",
      "|   Giải Trí|\n",
      "|      Error|\n",
      "|Phim Truyện|\n",
      "+-----------+\n",
      "\n"
     ]
    }
   ],
   "source": [
    "df.select('Type').distinct().show()"
   ]
  },
  {
   "cell_type": "code",
   "execution_count": 11,
   "metadata": {},
   "outputs": [],
   "source": [
    "df = df.filter(df.Type != 'Error')"
   ]
  },
  {
   "cell_type": "code",
   "execution_count": 12,
   "metadata": {},
   "outputs": [],
   "source": [
    "TV = df.filter(df.Type == 'Truyền Hình')\n",
    "Sport = df.filter(df.Type == 'Thể Thao')\n",
    "Child = df.filter(df.Type == 'Thiếu Nhi')\n",
    "Relax = df.filter(df.Type == 'Giải Trí')\n",
    "Movie = df.filter(df.Type == 'Phim Truyện')"
   ]
  },
  {
   "cell_type": "code",
   "execution_count": 15,
   "metadata": {},
   "outputs": [],
   "source": [
    "TV = TV.drop('Type').withColumnRenamed('TotalDuration','TVDuration')\n",
    "Sport = Sport.drop('Type').withColumnRenamed('TotalDuration','SportDuration')\n",
    "Child = Child.drop('Type').withColumnRenamed('TotalDuration','ChildDuration')\n",
    "Relax = Relax.drop('Type').withColumnRenamed('TotalDuration','RelaxDuration')\n",
    "Movie = Movie.drop('Type').withColumnRenamed('TotalDuration','MovieDuration')"
   ]
  },
  {
   "cell_type": "code",
   "execution_count": 29,
   "metadata": {},
   "outputs": [
    {
     "data": {
      "text/plain": [
       "DataFrame[Contract: string, TVDuration: double]"
      ]
     },
     "execution_count": 29,
     "metadata": {},
     "output_type": "execute_result"
    }
   ],
   "source": [
    "TV"
   ]
  },
  {
   "cell_type": "code",
   "execution_count": 30,
   "metadata": {},
   "outputs": [
    {
     "data": {
      "text/plain": [
       "DataFrame[Contract: string, SportDuration: double]"
      ]
     },
     "execution_count": 30,
     "metadata": {},
     "output_type": "execute_result"
    }
   ],
   "source": [
    "Sport"
   ]
  },
  {
   "cell_type": "code",
   "execution_count": 31,
   "metadata": {},
   "outputs": [
    {
     "data": {
      "text/plain": [
       "DataFrame[Contract: string, ChildDuration: double]"
      ]
     },
     "execution_count": 31,
     "metadata": {},
     "output_type": "execute_result"
    }
   ],
   "source": [
    "Child"
   ]
  },
  {
   "cell_type": "code",
   "execution_count": 28,
   "metadata": {},
   "outputs": [
    {
     "data": {
      "text/plain": [
       "DataFrame[Contract: string, TVDuration: double, Contract: string, SportDuration: double]"
      ]
     },
     "execution_count": 28,
     "metadata": {},
     "output_type": "execute_result"
    }
   ],
   "source": [
    "TV.join(Sport,TV.Contract==Sport.Contract,'outer')"
   ]
  },
  {
   "cell_type": "code",
   "execution_count": null,
   "metadata": {},
   "outputs": [],
   "source": []
  }
 ],
 "metadata": {
  "kernelspec": {
   "display_name": "Python 3",
   "language": "python",
   "name": "python3"
  },
  "language_info": {
   "codemirror_mode": {
    "name": "ipython",
    "version": 3
   },
   "file_extension": ".py",
   "mimetype": "text/x-python",
   "name": "python",
   "nbconvert_exporter": "python",
   "pygments_lexer": "ipython3",
   "version": "3.8.3"
  }
 },
 "nbformat": 4,
 "nbformat_minor": 4
}
