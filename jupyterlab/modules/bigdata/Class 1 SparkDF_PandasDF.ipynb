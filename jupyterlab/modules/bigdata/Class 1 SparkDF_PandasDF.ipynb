{
 "cells": [
  {
   "cell_type": "markdown",
   "metadata": {},
   "source": [
    "<b> Using Pandas <b> "
   ]
  },
  {
   "cell_type": "code",
   "execution_count": 1,
   "metadata": {},
   "outputs": [],
   "source": [
    "import pandas as pd \n",
    "import time"
   ]
  },
  {
   "cell_type": "code",
   "execution_count": 2,
   "metadata": {},
   "outputs": [
    {
     "name": "stdout",
     "output_type": "stream",
     "text": [
      "--- 0.7230632305145264 seconds ---\n"
     ]
    },
    {
     "data": {
      "text/html": [
       "<div>\n",
       "<style scoped>\n",
       "    .dataframe tbody tr th:only-of-type {\n",
       "        vertical-align: middle;\n",
       "    }\n",
       "\n",
       "    .dataframe tbody tr th {\n",
       "        vertical-align: top;\n",
       "    }\n",
       "\n",
       "    .dataframe thead th {\n",
       "        text-align: right;\n",
       "    }\n",
       "</style>\n",
       "<table border=\"1\" class=\"dataframe\">\n",
       "  <thead>\n",
       "    <tr style=\"text-align: right;\">\n",
       "      <th></th>\n",
       "      <th>Unnamed: 0</th>\n",
       "      <th>log_user_id</th>\n",
       "      <th>created_date</th>\n",
       "    </tr>\n",
       "  </thead>\n",
       "  <tbody>\n",
       "    <tr>\n",
       "      <th>0</th>\n",
       "      <td>0</td>\n",
       "      <td>40145156</td>\n",
       "      <td>2021-02-11</td>\n",
       "    </tr>\n",
       "    <tr>\n",
       "      <th>1</th>\n",
       "      <td>1</td>\n",
       "      <td>42728933</td>\n",
       "      <td>2021-12-19</td>\n",
       "    </tr>\n",
       "    <tr>\n",
       "      <th>2</th>\n",
       "      <td>2</td>\n",
       "      <td>44489223</td>\n",
       "      <td>2021-07-03</td>\n",
       "    </tr>\n",
       "    <tr>\n",
       "      <th>3</th>\n",
       "      <td>3</td>\n",
       "      <td>44111826</td>\n",
       "      <td>2021-08-12</td>\n",
       "    </tr>\n",
       "    <tr>\n",
       "      <th>4</th>\n",
       "      <td>4</td>\n",
       "      <td>48657707</td>\n",
       "      <td>2020-12-21</td>\n",
       "    </tr>\n",
       "    <tr>\n",
       "      <th>5</th>\n",
       "      <td>5</td>\n",
       "      <td>40266957</td>\n",
       "      <td>2021-02-14</td>\n",
       "    </tr>\n",
       "    <tr>\n",
       "      <th>6</th>\n",
       "      <td>6</td>\n",
       "      <td>40134977</td>\n",
       "      <td>2021-02-11</td>\n",
       "    </tr>\n",
       "    <tr>\n",
       "      <th>7</th>\n",
       "      <td>7</td>\n",
       "      <td>43899032</td>\n",
       "      <td>2021-03-29</td>\n",
       "    </tr>\n",
       "    <tr>\n",
       "      <th>8</th>\n",
       "      <td>8</td>\n",
       "      <td>47270036</td>\n",
       "      <td>2020-10-09</td>\n",
       "    </tr>\n",
       "    <tr>\n",
       "      <th>9</th>\n",
       "      <td>9</td>\n",
       "      <td>40553051</td>\n",
       "      <td>2021-02-07</td>\n",
       "    </tr>\n",
       "  </tbody>\n",
       "</table>\n",
       "</div>"
      ],
      "text/plain": [
       "   Unnamed: 0  log_user_id created_date\n",
       "0           0     40145156   2021-02-11\n",
       "1           1     42728933   2021-12-19\n",
       "2           2     44489223   2021-07-03\n",
       "3           3     44111826   2021-08-12\n",
       "4           4     48657707   2020-12-21\n",
       "5           5     40266957   2021-02-14\n",
       "6           6     40134977   2021-02-11\n",
       "7           7     43899032   2021-03-29\n",
       "8           8     47270036   2020-10-09\n",
       "9           9     40553051   2021-02-07"
      ]
     },
     "execution_count": 2,
     "metadata": {},
     "output_type": "execute_result"
    }
   ],
   "source": [
    "start_time = time.time()\n",
    "df = pd.read_csv('C:\\\\Users\\\\ASUS\\\\OneDrive\\\\Big_Data_Analytics\\\\Dataset\\\\big_data_userid.csv')\n",
    "print(\"--- %s seconds ---\" % (time.time() - start_time))\n",
    "df.head(10)"
   ]
  },
  {
   "cell_type": "code",
   "execution_count": 3,
   "metadata": {},
   "outputs": [],
   "source": [
    "df.drop(columns = {'Unnamed: 0'},inplace=True)"
   ]
  },
  {
   "cell_type": "code",
   "execution_count": 4,
   "metadata": {},
   "outputs": [
    {
     "name": "stdout",
     "output_type": "stream",
     "text": [
      "--- 0.17639589309692383 seconds ---\n"
     ]
    },
    {
     "data": {
      "text/html": [
       "<div>\n",
       "<style scoped>\n",
       "    .dataframe tbody tr th:only-of-type {\n",
       "        vertical-align: middle;\n",
       "    }\n",
       "\n",
       "    .dataframe tbody tr th {\n",
       "        vertical-align: top;\n",
       "    }\n",
       "\n",
       "    .dataframe thead th {\n",
       "        text-align: right;\n",
       "    }\n",
       "</style>\n",
       "<table border=\"1\" class=\"dataframe\">\n",
       "  <thead>\n",
       "    <tr style=\"text-align: right;\">\n",
       "      <th></th>\n",
       "      <th>created_date</th>\n",
       "      <th>Total_Users</th>\n",
       "    </tr>\n",
       "  </thead>\n",
       "  <tbody>\n",
       "    <tr>\n",
       "      <th>2795</th>\n",
       "      <td>2022-06-14</td>\n",
       "      <td>1345</td>\n",
       "    </tr>\n",
       "    <tr>\n",
       "      <th>2794</th>\n",
       "      <td>2022-06-13</td>\n",
       "      <td>1444</td>\n",
       "    </tr>\n",
       "    <tr>\n",
       "      <th>2793</th>\n",
       "      <td>2022-06-12</td>\n",
       "      <td>3549</td>\n",
       "    </tr>\n",
       "    <tr>\n",
       "      <th>2792</th>\n",
       "      <td>2022-06-11</td>\n",
       "      <td>1912</td>\n",
       "    </tr>\n",
       "    <tr>\n",
       "      <th>2791</th>\n",
       "      <td>2022-06-10</td>\n",
       "      <td>1614</td>\n",
       "    </tr>\n",
       "    <tr>\n",
       "      <th>2790</th>\n",
       "      <td>2022-06-09</td>\n",
       "      <td>1938</td>\n",
       "    </tr>\n",
       "    <tr>\n",
       "      <th>2789</th>\n",
       "      <td>2022-06-08</td>\n",
       "      <td>3155</td>\n",
       "    </tr>\n",
       "    <tr>\n",
       "      <th>2788</th>\n",
       "      <td>2022-06-07</td>\n",
       "      <td>1632</td>\n",
       "    </tr>\n",
       "    <tr>\n",
       "      <th>2787</th>\n",
       "      <td>2022-06-06</td>\n",
       "      <td>1607</td>\n",
       "    </tr>\n",
       "    <tr>\n",
       "      <th>2786</th>\n",
       "      <td>2022-06-05</td>\n",
       "      <td>2717</td>\n",
       "    </tr>\n",
       "  </tbody>\n",
       "</table>\n",
       "</div>"
      ],
      "text/plain": [
       "     created_date  Total_Users\n",
       "2795   2022-06-14         1345\n",
       "2794   2022-06-13         1444\n",
       "2793   2022-06-12         3549\n",
       "2792   2022-06-11         1912\n",
       "2791   2022-06-10         1614\n",
       "2790   2022-06-09         1938\n",
       "2789   2022-06-08         3155\n",
       "2788   2022-06-07         1632\n",
       "2787   2022-06-06         1607\n",
       "2786   2022-06-05         2717"
      ]
     },
     "execution_count": 4,
     "metadata": {},
     "output_type": "execute_result"
    }
   ],
   "source": [
    "start_time = time.time()\n",
    "calculation = df.groupby('created_date').count().reset_index().rename(columns={'log_user_id':'Total_Users'}).sort_values(by=['created_date'], ascending=False)\n",
    "print(\"--- %s seconds ---\" % (time.time() - start_time))\n",
    "calculation.head(10)"
   ]
  },
  {
   "cell_type": "code",
   "execution_count": 5,
   "metadata": {},
   "outputs": [
    {
     "data": {
      "text/plain": [
       "log_user_id     2794596\n",
       "created_date    2794596\n",
       "dtype: int64"
      ]
     },
     "execution_count": 5,
     "metadata": {},
     "output_type": "execute_result"
    }
   ],
   "source": [
    "df.count()"
   ]
  },
  {
   "cell_type": "markdown",
   "metadata": {},
   "source": [
    "<b> Using Spark <b> "
   ]
  },
  {
   "cell_type": "code",
   "execution_count": 10,
   "metadata": {},
   "outputs": [],
   "source": [
    "from pyspark.sql import SparkSession"
   ]
  },
  {
   "cell_type": "code",
   "execution_count": 11,
   "metadata": {},
   "outputs": [],
   "source": [
    "spark = SparkSession.builder.config(\"spark.driver.memory\", \"15g\").config(\"spark.executor.cores\",16).getOrCreate()"
   ]
  },
  {
   "cell_type": "code",
   "execution_count": 17,
   "metadata": {},
   "outputs": [
    {
     "name": "stdout",
     "output_type": "stream",
     "text": [
      "--- 0.1419990062713623 seconds ---\n",
      "+---+-----------+------------+\n",
      "|_c0|log_user_id|created_date|\n",
      "+---+-----------+------------+\n",
      "|  0|   40145156|  2021-02-11|\n",
      "|  1|   42728933|  2021-12-19|\n",
      "|  2|   44489223|  2021-07-03|\n",
      "|  3|   44111826|  2021-08-12|\n",
      "|  4|   48657707|  2020-12-21|\n",
      "|  5|   40266957|  2021-02-14|\n",
      "|  6|   40134977|  2021-02-11|\n",
      "|  7|   43899032|  2021-03-29|\n",
      "|  8|   47270036|  2020-10-09|\n",
      "|  9|   40553051|  2021-02-07|\n",
      "+---+-----------+------------+\n",
      "only showing top 10 rows\n",
      "\n"
     ]
    }
   ],
   "source": [
    "start_time = time.time()\n",
    "spark_df = spark.read.csv('C:\\\\Users\\\\ASUS\\\\OneDrive\\\\Big_Data_Analytics\\\\Dataset\\\\big_data_userid.csv',header=True)\n",
    "print(\"--- %s seconds ---\" % (time.time() - start_time))\n",
    "spark_df.show(10)"
   ]
  },
  {
   "cell_type": "code",
   "execution_count": 22,
   "metadata": {},
   "outputs": [],
   "source": [
    "spark_df = spark_df.drop('_c0')"
   ]
  },
  {
   "cell_type": "code",
   "execution_count": 23,
   "metadata": {},
   "outputs": [],
   "source": [
    "spark_df = spark_df.cache()"
   ]
  },
  {
   "cell_type": "code",
   "execution_count": 24,
   "metadata": {},
   "outputs": [
    {
     "name": "stdout",
     "output_type": "stream",
     "text": [
      "+------------+-----+\n",
      "|created_date|count|\n",
      "+------------+-----+\n",
      "|  2022-06-14| 1345|\n",
      "|  2022-06-13| 1444|\n",
      "|  2022-06-12| 3549|\n",
      "|  2022-06-11| 1912|\n",
      "|  2022-06-10| 1614|\n",
      "|  2022-06-09| 1938|\n",
      "|  2022-06-08| 3155|\n",
      "|  2022-06-07| 1632|\n",
      "|  2022-06-06| 1607|\n",
      "|  2022-06-05| 2717|\n",
      "|  2022-06-04| 1640|\n",
      "|  2022-06-03| 1557|\n",
      "|  2022-06-02| 2436|\n",
      "|  2022-06-01| 1554|\n",
      "|  2022-05-31| 1034|\n",
      "|  2022-05-30| 1410|\n",
      "|  2022-05-29| 1423|\n",
      "|  2022-05-28| 6985|\n",
      "|  2022-05-27| 1209|\n",
      "|  2022-05-26| 1190|\n",
      "+------------+-----+\n",
      "only showing top 20 rows\n",
      "\n",
      "--- 1.500025987625122 seconds ---\n"
     ]
    }
   ],
   "source": [
    "start_time = time.time()\n",
    "spark_calculation = spark_df.groupBy('created_date').count().orderBy('created_date',ascending=False)\n",
    "spark_calculation.show()\n",
    "print(\"--- %s seconds ---\" % (time.time() - start_time))"
   ]
  },
  {
   "cell_type": "code",
   "execution_count": 28,
   "metadata": {},
   "outputs": [
    {
     "name": "stdout",
     "output_type": "stream",
     "text": [
      "--- 0.0 seconds ---\n"
     ]
    }
   ],
   "source": [
    "thang6 = spark.read.csv('C:\\\\Users\\\\ASUS\\\\OneDrive\\\\Big_Data_Analytics\\\\Dataset\\\\thang6.csv',header=True)\n",
    "start_time = time.time()\n",
    "print(\"--- %s seconds ---\" % (time.time() - start_time))"
   ]
  },
  {
   "cell_type": "code",
   "execution_count": 30,
   "metadata": {},
   "outputs": [
    {
     "name": "stdout",
     "output_type": "stream",
     "text": [
      "--- 1.5583248138427734 seconds ---\n"
     ]
    }
   ],
   "source": [
    "start_time = time.time()\n",
    "thang6.count()\n",
    "print(\"--- %s seconds ---\" % (time.time() - start_time))"
   ]
  },
  {
   "cell_type": "code",
   "execution_count": 33,
   "metadata": {},
   "outputs": [
    {
     "name": "stdout",
     "output_type": "stream",
     "text": [
      "+--------+--------------------+---------------+---------+\n",
      "| user_id|         contentName|     screenName|TotalView|\n",
      "+--------+--------------------+---------------+---------+\n",
      "|41855624|             VTV1 HD|Truyền hình Box|        5|\n",
      "|92756298|             VTV1 HD|    Truyền hình|     3542|\n",
      "|49557251|             Gia Lai|Truyền hình Box|      188|\n",
      "|41987146|One Punch Man Sea...| Chi tiết video|        3|\n",
      "|95819596|             F-Event|    Truyền Hình|        2|\n",
      "|40521418|             VTV1 HD|    Truyền hình|       26|\n",
      "|44085170|             VTV8 HD|Truyền hình Box|       15|\n",
      "|49800362|          Hà Tĩnh HD|External Search|       13|\n",
      "|40099749|      Vĩnh Long 3 HD|    Truyền hình|       45|\n",
      "|49978137|           Hậu Giang|    Truyền Hình|       40|\n",
      "|98378789|        Võ Tắc Thiên|      Xem video|       31|\n",
      "| 4943949|           Sóc Trăng|Truyền hình Box|        1|\n",
      "|44601371|            VTC16 HD|    Truyền hình|       54|\n",
      "|49755687|             VTV1 HD|    Truyền hình|      340|\n",
      "|49159856|             Bắc Kạn|External Search|       44|\n",
      "|98178165|          Thể Thao 3|Truyền hình Box|       10|\n",
      "|42656155|           Đồng Tháp|Truyền hình Box|       90|\n",
      "|49995467|     Bầu Trời Rực Đỏ|      Xem video|       11|\n",
      "| 7688810|             VTV2 HD|    Truyền hình|      138|\n",
      "|43987302|             VTV3 HD|Truyền hình Box|       13|\n",
      "+--------+--------------------+---------------+---------+\n",
      "only showing top 20 rows\n",
      "\n"
     ]
    }
   ],
   "source": [
    "thang6.show()"
   ]
  },
  {
   "cell_type": "code",
   "execution_count": 34,
   "metadata": {},
   "outputs": [
    {
     "name": "stdout",
     "output_type": "stream",
     "text": [
      "root\n",
      " |-- user_id: string (nullable = true)\n",
      " |-- contentName: string (nullable = true)\n",
      " |-- screenName: string (nullable = true)\n",
      " |-- TotalView: string (nullable = true)\n",
      "\n"
     ]
    }
   ],
   "source": [
    "thang6.printSchema()"
   ]
  },
  {
   "cell_type": "code",
   "execution_count": null,
   "metadata": {},
   "outputs": [],
   "source": []
  }
 ],
 "metadata": {
  "kernelspec": {
   "display_name": "Python 3 (ipykernel)",
   "language": "python",
   "name": "python3"
  },
  "language_info": {
   "codemirror_mode": {
    "name": "ipython",
    "version": 3
   },
   "file_extension": ".py",
   "mimetype": "text/x-python",
   "name": "python",
   "nbconvert_exporter": "python",
   "pygments_lexer": "ipython3",
   "version": "3.9.7"
  }
 },
 "nbformat": 4,
 "nbformat_minor": 4
}
