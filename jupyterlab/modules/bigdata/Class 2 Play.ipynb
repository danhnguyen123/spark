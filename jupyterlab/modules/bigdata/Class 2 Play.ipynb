{
 "cells": [
  {
   "cell_type": "code",
   "execution_count": 1,
   "metadata": {},
   "outputs": [],
   "source": [
    "import os\n",
    "import pandas as pd\n",
    "import pyspark\n",
    "from pyspark.conf import SparkConf\n",
    "from pyspark.sql import SparkSession"
   ]
  },
  {
   "cell_type": "code",
   "execution_count": 2,
   "metadata": {},
   "outputs": [
    {
     "data": {
      "text/plain": [
       "'/opt/workspace'"
      ]
     },
     "execution_count": 2,
     "metadata": {},
     "output_type": "execute_result"
    }
   ],
   "source": [
    "import os\n",
    "os.getcwd()"
   ]
  },
  {
   "cell_type": "code",
   "execution_count": 3,
   "metadata": {},
   "outputs": [],
   "source": [
    "from helper import spark_helper"
   ]
  },
  {
   "cell_type": "code",
   "execution_count": 4,
   "metadata": {},
   "outputs": [
    {
     "name": "stderr",
     "output_type": "stream",
     "text": [
      "22/11/15 14:32:42 WARN NativeCodeLoader: Unable to load native-hadoop library for your platform... using builtin-java classes where applicable\n",
      "Using Spark's default log4j profile: org/apache/spark/log4j-defaults.properties\n",
      "Setting default log level to \"WARN\".\n",
      "To adjust logging level use sc.setLogLevel(newLevel). For SparkR, use setLogLevel(newLevel).\n"
     ]
    }
   ],
   "source": [
    "spark = spark_helper.get_spark_context(\"playgroud\")"
   ]
  },
  {
   "cell_type": "code",
   "execution_count": 5,
   "metadata": {},
   "outputs": [
    {
     "name": "stderr",
     "output_type": "stream",
     "text": [
      "22/11/15 14:34:11 WARN TaskSchedulerImpl: Initial job has not accepted any resources; check your cluster UI to ensure that workers are registered and have sufficient resources\n",
      "22/11/15 14:34:26 WARN TaskSchedulerImpl: Initial job has not accepted any resources; check your cluster UI to ensure that workers are registered and have sufficient resources\n"
     ]
    },
    {
     "ename": "KeyboardInterrupt",
     "evalue": "",
     "output_type": "error",
     "traceback": [
      "\u001b[0;31m---------------------------------------------------------------------------\u001b[0m",
      "\u001b[0;31mKeyboardInterrupt\u001b[0m                         Traceback (most recent call last)",
      "Cell \u001b[0;32mIn [5], line 1\u001b[0m\n\u001b[0;32m----> 1\u001b[0m df \u001b[39m=\u001b[39m spark\u001b[39m.\u001b[39;49mread\u001b[39m.\u001b[39;49mjson(\u001b[39m'\u001b[39;49m\u001b[39mdata/rootkey.csv\u001b[39;49m\u001b[39m'\u001b[39;49m)\n",
      "File \u001b[0;32m~opt/bitnami/spark/python/pyspark/sql/readwriter.py:372\u001b[0m, in \u001b[0;36mDataFrameReader.json\u001b[0;34m(self, path, schema, primitivesAsString, prefersDecimal, allowComments, allowUnquotedFieldNames, allowSingleQuotes, allowNumericLeadingZero, allowBackslashEscapingAnyCharacter, mode, columnNameOfCorruptRecord, dateFormat, timestampFormat, multiLine, allowUnquotedControlChars, lineSep, samplingRatio, dropFieldIfAllNull, encoding, locale, pathGlobFilter, recursiveFileLookup, allowNonNumericNumbers, modifiedBefore, modifiedAfter)\u001b[0m\n\u001b[1;32m    370\u001b[0m     path \u001b[39m=\u001b[39m [path]\n\u001b[1;32m    371\u001b[0m \u001b[39mif\u001b[39;00m \u001b[39mtype\u001b[39m(path) \u001b[39m==\u001b[39m \u001b[39mlist\u001b[39m:\n\u001b[0;32m--> 372\u001b[0m     \u001b[39mreturn\u001b[39;00m \u001b[39mself\u001b[39m\u001b[39m.\u001b[39m_df(\u001b[39mself\u001b[39;49m\u001b[39m.\u001b[39;49m_jreader\u001b[39m.\u001b[39;49mjson(\u001b[39mself\u001b[39;49m\u001b[39m.\u001b[39;49m_spark\u001b[39m.\u001b[39;49m_sc\u001b[39m.\u001b[39;49m_jvm\u001b[39m.\u001b[39;49mPythonUtils\u001b[39m.\u001b[39;49mtoSeq(path)))\n\u001b[1;32m    373\u001b[0m \u001b[39melif\u001b[39;00m \u001b[39misinstance\u001b[39m(path, RDD):\n\u001b[1;32m    374\u001b[0m     \u001b[39mdef\u001b[39;00m \u001b[39mfunc\u001b[39m(iterator):\n",
      "File \u001b[0;32m~opt/bitnami/python/lib/python3.8/site-packages/py4j/java_gateway.py:1308\u001b[0m, in \u001b[0;36mJavaMember.__call__\u001b[0;34m(self, *args)\u001b[0m\n\u001b[1;32m   1301\u001b[0m args_command, temp_args \u001b[39m=\u001b[39m \u001b[39mself\u001b[39m\u001b[39m.\u001b[39m_build_args(\u001b[39m*\u001b[39margs)\n\u001b[1;32m   1303\u001b[0m command \u001b[39m=\u001b[39m proto\u001b[39m.\u001b[39mCALL_COMMAND_NAME \u001b[39m+\u001b[39m\\\n\u001b[1;32m   1304\u001b[0m     \u001b[39mself\u001b[39m\u001b[39m.\u001b[39mcommand_header \u001b[39m+\u001b[39m\\\n\u001b[1;32m   1305\u001b[0m     args_command \u001b[39m+\u001b[39m\\\n\u001b[1;32m   1306\u001b[0m     proto\u001b[39m.\u001b[39mEND_COMMAND_PART\n\u001b[0;32m-> 1308\u001b[0m answer \u001b[39m=\u001b[39m \u001b[39mself\u001b[39;49m\u001b[39m.\u001b[39;49mgateway_client\u001b[39m.\u001b[39;49msend_command(command)\n\u001b[1;32m   1309\u001b[0m return_value \u001b[39m=\u001b[39m get_return_value(\n\u001b[1;32m   1310\u001b[0m     answer, \u001b[39mself\u001b[39m\u001b[39m.\u001b[39mgateway_client, \u001b[39mself\u001b[39m\u001b[39m.\u001b[39mtarget_id, \u001b[39mself\u001b[39m\u001b[39m.\u001b[39mname)\n\u001b[1;32m   1312\u001b[0m \u001b[39mfor\u001b[39;00m temp_arg \u001b[39min\u001b[39;00m temp_args:\n",
      "File \u001b[0;32m~opt/bitnami/python/lib/python3.8/site-packages/py4j/java_gateway.py:1038\u001b[0m, in \u001b[0;36mGatewayClient.send_command\u001b[0;34m(self, command, retry, binary)\u001b[0m\n\u001b[1;32m   1036\u001b[0m connection \u001b[39m=\u001b[39m \u001b[39mself\u001b[39m\u001b[39m.\u001b[39m_get_connection()\n\u001b[1;32m   1037\u001b[0m \u001b[39mtry\u001b[39;00m:\n\u001b[0;32m-> 1038\u001b[0m     response \u001b[39m=\u001b[39m connection\u001b[39m.\u001b[39;49msend_command(command)\n\u001b[1;32m   1039\u001b[0m     \u001b[39mif\u001b[39;00m binary:\n\u001b[1;32m   1040\u001b[0m         \u001b[39mreturn\u001b[39;00m response, \u001b[39mself\u001b[39m\u001b[39m.\u001b[39m_create_connection_guard(connection)\n",
      "File \u001b[0;32m~opt/bitnami/python/lib/python3.8/site-packages/py4j/java_gateway.py:1205\u001b[0m, in \u001b[0;36mGatewayConnection.send_command\u001b[0;34m(self, command)\u001b[0m\n\u001b[1;32m   1201\u001b[0m     \u001b[39mraise\u001b[39;00m Py4JNetworkError(\n\u001b[1;32m   1202\u001b[0m         \u001b[39m\"\u001b[39m\u001b[39mError while sending\u001b[39m\u001b[39m\"\u001b[39m, e, proto\u001b[39m.\u001b[39mERROR_ON_SEND)\n\u001b[1;32m   1204\u001b[0m \u001b[39mtry\u001b[39;00m:\n\u001b[0;32m-> 1205\u001b[0m     answer \u001b[39m=\u001b[39m smart_decode(\u001b[39mself\u001b[39;49m\u001b[39m.\u001b[39;49mstream\u001b[39m.\u001b[39;49mreadline()[:\u001b[39m-\u001b[39m\u001b[39m1\u001b[39m])\n\u001b[1;32m   1206\u001b[0m     logger\u001b[39m.\u001b[39mdebug(\u001b[39m\"\u001b[39m\u001b[39mAnswer received: \u001b[39m\u001b[39m{0}\u001b[39;00m\u001b[39m\"\u001b[39m\u001b[39m.\u001b[39mformat(answer))\n\u001b[1;32m   1207\u001b[0m     \u001b[39mif\u001b[39;00m answer\u001b[39m.\u001b[39mstartswith(proto\u001b[39m.\u001b[39mRETURN_MESSAGE):\n",
      "File \u001b[0;32m~opt/bitnami/python/lib/python3.8/socket.py:669\u001b[0m, in \u001b[0;36mSocketIO.readinto\u001b[0;34m(self, b)\u001b[0m\n\u001b[1;32m    667\u001b[0m \u001b[39mwhile\u001b[39;00m \u001b[39mTrue\u001b[39;00m:\n\u001b[1;32m    668\u001b[0m     \u001b[39mtry\u001b[39;00m:\n\u001b[0;32m--> 669\u001b[0m         \u001b[39mreturn\u001b[39;00m \u001b[39mself\u001b[39;49m\u001b[39m.\u001b[39;49m_sock\u001b[39m.\u001b[39;49mrecv_into(b)\n\u001b[1;32m    670\u001b[0m     \u001b[39mexcept\u001b[39;00m timeout:\n\u001b[1;32m    671\u001b[0m         \u001b[39mself\u001b[39m\u001b[39m.\u001b[39m_timeout_occurred \u001b[39m=\u001b[39m \u001b[39mTrue\u001b[39;00m\n",
      "\u001b[0;31mKeyboardInterrupt\u001b[0m: "
     ]
    }
   ],
   "source": [
    "df = spark.read.json('data/rootkey.csv')"
   ]
  },
  {
   "cell_type": "code",
   "execution_count": 7,
   "metadata": {},
   "outputs": [
    {
     "ename": "NameError",
     "evalue": "name 'df' is not defined",
     "output_type": "error",
     "traceback": [
      "\u001b[0;31m---------------------------------------------------------------------------\u001b[0m",
      "\u001b[0;31mNameError\u001b[0m                                 Traceback (most recent call last)",
      "Cell \u001b[0;32mIn [7], line 1\u001b[0m\n\u001b[0;32m----> 1\u001b[0m df\n",
      "\u001b[0;31mNameError\u001b[0m: name 'df' is not defined"
     ]
    }
   ],
   "source": [
    "df"
   ]
  },
  {
   "cell_type": "code",
   "execution_count": 6,
   "metadata": {},
   "outputs": [
    {
     "name": "stderr",
     "output_type": "stream",
     "text": [
      "                                                                                \r"
     ]
    },
    {
     "data": {
      "text/plain": [
       "1654519"
      ]
     },
     "execution_count": 6,
     "metadata": {},
     "output_type": "execute_result"
    }
   ],
   "source": [
    "df.count()"
   ]
  },
  {
   "cell_type": "code",
   "execution_count": 7,
   "metadata": {},
   "outputs": [
    {
     "name": "stdout",
     "output_type": "stream",
     "text": [
      "root\n",
      " |-- _id: string (nullable = true)\n",
      " |-- _index: string (nullable = true)\n",
      " |-- _score: long (nullable = true)\n",
      " |-- _source: struct (nullable = true)\n",
      " |    |-- AppName: string (nullable = true)\n",
      " |    |-- Contract: string (nullable = true)\n",
      " |    |-- Mac: string (nullable = true)\n",
      " |    |-- TotalDuration: long (nullable = true)\n",
      " |-- _type: string (nullable = true)\n",
      "\n"
     ]
    }
   ],
   "source": [
    "df.printSchema()"
   ]
  },
  {
   "cell_type": "code",
   "execution_count": 4,
   "metadata": {},
   "outputs": [
    {
     "name": "stdout",
     "output_type": "stream",
     "text": [
      "+--------------------+-------+------+--------------------+-----+\n",
      "|                 _id| _index|_score|             _source|_type|\n",
      "+--------------------+-------+------+--------------------+-----+\n",
      "|AX_momhia1FFivsGrn9o|history|     0|{KPLUS, HNH579912...|kplus|\n",
      "|AX_momhca1FFivsGrnvg|history|     0|{KPLUS, HUFD40665...|kplus|\n",
      "|AX_momhaa1FFivsGrnny|history|     0|{KPLUS, HNH572635...|kplus|\n",
      "|AX_momhca1FFivsGrnvv|history|     0|{KPLUS, HND141717...|kplus|\n",
      "|AX_momhia1FFivsGrn98|history|     0|{KPLUS, HNH743103...|kplus|\n",
      "|AX_momg9a1FFivsGrnkS|history|     0|{KPLUS, HNH893773...|kplus|\n",
      "|AX_momhca1FFivsGrnwA|history|     0|{KPLUS, HND083642...|kplus|\n",
      "|AX_momhfa1FFivsGrn2u|history|     0|{KPLUS, DNFD74404...|kplus|\n",
      "|AX_momhca1FFivsGrnwP|history|     0|{KPLUS, DTFD21200...|kplus|\n",
      "|AX_momhca1FFivsGrnwU|history|     0|{KPLUS, LDFD05747...|kplus|\n",
      "|AX_momhfa1FFivsGrn24|history|     0|{KPLUS, HNH063566...|kplus|\n",
      "|AX_momhia1FFivsGrn-W|history|     0|{KPLUS, HNH866786...|kplus|\n",
      "|AX_momhia1FFivsGrn-a|history|     0|{KPLUS, NBAAA1128...|kplus|\n",
      "|AX_momhfa1FFivsGrn3J|history|     0|{KPLUS, HNH960439...|kplus|\n",
      "|AX_momhia1FFivsGrn-k|history|     0|{KPLUS, HNJ035736...|kplus|\n",
      "|AX_momhaa1FFivsGrnol|history|     0|{KPLUS, NTFD93673...|kplus|\n",
      "|AX_momhaa1FFivsGrnoq|history|     0|{KPLUS, HNJ063267...|kplus|\n",
      "|AX_momg9a1FFivsGrnlF|history|     0|{KPLUS, HNH790383...|kplus|\n",
      "|AX_momhia1FFivsGrn-4|history|     0|{KPLUS, THFD12466...|kplus|\n",
      "|AX_momhia1FFivsGrn-9|history|     0|{KPLUS, HNH566080...|kplus|\n",
      "+--------------------+-------+------+--------------------+-----+\n",
      "only showing top 20 rows\n",
      "\n",
      "22/09/25 14:45:56 WARN StandaloneAppClient$ClientEndpoint: Connection to f1748ec23ccd:7077 failed; waiting for master to reconnect...\n",
      "22/09/25 14:45:56 WARN StandaloneSchedulerBackend: Disconnected from Spark cluster! Waiting for reconnection...\n",
      "22/09/25 14:46:09 ERROR TaskSchedulerImpl: Lost executor 2 on 172.23.0.5: Remote RPC client disassociated. Likely due to containers exceeding thresholds, or network issues. Check driver logs for WARN messages.\n",
      "22/09/25 14:46:09 ERROR TaskSchedulerImpl: Lost executor 1 on 172.23.0.7: Remote RPC client disassociated. Likely due to containers exceeding thresholds, or network issues. Check driver logs for WARN messages.\n",
      "22/09/25 14:46:09 ERROR TaskSchedulerImpl: Lost executor 3 on 172.23.0.4: Remote RPC client disassociated. Likely due to containers exceeding thresholds, or network issues. Check driver logs for WARN messages.\n",
      "22/09/25 14:46:09 ERROR TaskSchedulerImpl: Lost executor 0 on 172.23.0.6: Remote RPC client disassociated. Likely due to containers exceeding thresholds, or network issues. Check driver logs for WARN messages.\n"
     ]
    }
   ],
   "source": [
    "df.show()"
   ]
  },
  {
   "cell_type": "code",
   "execution_count": 9,
   "metadata": {},
   "outputs": [
    {
     "name": "stdout",
     "output_type": "stream",
     "text": [
      "root\n",
      " |-- _source: struct (nullable = true)\n",
      " |    |-- AppName: string (nullable = true)\n",
      " |    |-- Contract: string (nullable = true)\n",
      " |    |-- Mac: string (nullable = true)\n",
      " |    |-- TotalDuration: long (nullable = true)\n",
      "\n"
     ]
    }
   ],
   "source": [
    "df.select('_source').printSchema()"
   ]
  },
  {
   "cell_type": "code",
   "execution_count": 11,
   "metadata": {},
   "outputs": [
    {
     "name": "stderr",
     "output_type": "stream",
     "text": [
      "[Stage 6:>                                                          (0 + 1) / 1]\r"
     ]
    },
    {
     "name": "stdout",
     "output_type": "stream",
     "text": [
      "+---------+-------+------------+-------------+\n",
      "| Contract|AppName|         Mac|TotalDuration|\n",
      "+---------+-------+------------+-------------+\n",
      "|HNH579912|  KPLUS|0C96E62FC55C|          254|\n",
      "|HUFD40665|  KPLUS|CCEDDC333614|         1457|\n",
      "|HNH572635|  KPLUS|B068E6A1C5F6|         2318|\n",
      "|HND141717|  KPLUS|08674EE8D2C2|         1452|\n",
      "|HNH743103|  KPLUS|402343C25D7D|          251|\n",
      "|HNH893773|  KPLUS|B84DEE76D3B8|          924|\n",
      "|HND083642|  KPLUS|B84DEE849A0F|         1444|\n",
      "|DNFD74404|  KPLUS|90324BB44C39|          691|\n",
      "|DTFD21200|  KPLUS|B84DEED27709|         1436|\n",
      "|LDFD05747|  KPLUS|0C96E6C95E53|         1434|\n",
      "|HNH063566|  KPLUS|B84DEEDD1C85|          687|\n",
      "|HNH866786|  KPLUS|10394E2790A5|          248|\n",
      "|NBAAA1128|  KPLUS|10394E47C1AF|          247|\n",
      "|HNH960439|  KPLUS|B84DEED34371|          683|\n",
      "|HNJ035736|  KPLUS|CCD4A1FA86A5|          246|\n",
      "|NTFD93673|  KPLUS|B84DEEEF4763|         2288|\n",
      "|HNJ063267|  KPLUS|10394E172CA7|         2282|\n",
      "|HNH790383|  KPLUS|4CEBBD53378B|          906|\n",
      "|THFD12466|  KPLUS|5CEA1D893E1C|          242|\n",
      "|HNH566080|  KPLUS|802BF9E0DDC0|          242|\n",
      "+---------+-------+------------+-------------+\n",
      "only showing top 20 rows\n",
      "\n"
     ]
    },
    {
     "name": "stderr",
     "output_type": "stream",
     "text": [
      "                                                                                \r"
     ]
    }
   ],
   "source": [
    "df.select( '_source.Contract','_source.AppName', '_source.Mac', '_source.TotalDuration').show()"
   ]
  },
  {
   "cell_type": "code",
   "execution_count": 12,
   "metadata": {},
   "outputs": [
    {
     "name": "stdout",
     "output_type": "stream",
     "text": [
      "+--------------------+-------+------+-----+---------+-------+------------+-------------+\n",
      "|                 _id| _index|_score|_type| Contract|AppName|         Mac|TotalDuration|\n",
      "+--------------------+-------+------+-----+---------+-------+------------+-------------+\n",
      "|AX_momhia1FFivsGrn9o|history|     0|kplus|HNH579912|  KPLUS|0C96E62FC55C|          254|\n",
      "|AX_momhca1FFivsGrnvg|history|     0|kplus|HUFD40665|  KPLUS|CCEDDC333614|         1457|\n",
      "|AX_momhaa1FFivsGrnny|history|     0|kplus|HNH572635|  KPLUS|B068E6A1C5F6|         2318|\n",
      "|AX_momhca1FFivsGrnvv|history|     0|kplus|HND141717|  KPLUS|08674EE8D2C2|         1452|\n",
      "|AX_momhia1FFivsGrn98|history|     0|kplus|HNH743103|  KPLUS|402343C25D7D|          251|\n",
      "|AX_momg9a1FFivsGrnkS|history|     0|kplus|HNH893773|  KPLUS|B84DEE76D3B8|          924|\n",
      "|AX_momhca1FFivsGrnwA|history|     0|kplus|HND083642|  KPLUS|B84DEE849A0F|         1444|\n",
      "|AX_momhfa1FFivsGrn2u|history|     0|kplus|DNFD74404|  KPLUS|90324BB44C39|          691|\n",
      "|AX_momhca1FFivsGrnwP|history|     0|kplus|DTFD21200|  KPLUS|B84DEED27709|         1436|\n",
      "|AX_momhca1FFivsGrnwU|history|     0|kplus|LDFD05747|  KPLUS|0C96E6C95E53|         1434|\n",
      "|AX_momhfa1FFivsGrn24|history|     0|kplus|HNH063566|  KPLUS|B84DEEDD1C85|          687|\n",
      "|AX_momhia1FFivsGrn-W|history|     0|kplus|HNH866786|  KPLUS|10394E2790A5|          248|\n",
      "|AX_momhia1FFivsGrn-a|history|     0|kplus|NBAAA1128|  KPLUS|10394E47C1AF|          247|\n",
      "|AX_momhfa1FFivsGrn3J|history|     0|kplus|HNH960439|  KPLUS|B84DEED34371|          683|\n",
      "|AX_momhia1FFivsGrn-k|history|     0|kplus|HNJ035736|  KPLUS|CCD4A1FA86A5|          246|\n",
      "|AX_momhaa1FFivsGrnol|history|     0|kplus|NTFD93673|  KPLUS|B84DEEEF4763|         2288|\n",
      "|AX_momhaa1FFivsGrnoq|history|     0|kplus|HNJ063267|  KPLUS|10394E172CA7|         2282|\n",
      "|AX_momg9a1FFivsGrnlF|history|     0|kplus|HNH790383|  KPLUS|4CEBBD53378B|          906|\n",
      "|AX_momhia1FFivsGrn-4|history|     0|kplus|THFD12466|  KPLUS|5CEA1D893E1C|          242|\n",
      "|AX_momhia1FFivsGrn-9|history|     0|kplus|HNH566080|  KPLUS|802BF9E0DDC0|          242|\n",
      "+--------------------+-------+------+-----+---------+-------+------------+-------------+\n",
      "only showing top 20 rows\n",
      "\n"
     ]
    }
   ],
   "source": [
    "df.select( '_id','_index','_score','_type','_source.Contract','_source.AppName', '_source.Mac', '_source.TotalDuration').show()"
   ]
  },
  {
   "cell_type": "code",
   "execution_count": 13,
   "metadata": {},
   "outputs": [],
   "source": [
    "df = df.select( '_source.Contract','_source.AppName', '_source.Mac', '_source.TotalDuration')"
   ]
  },
  {
   "cell_type": "code",
   "execution_count": 14,
   "metadata": {},
   "outputs": [
    {
     "name": "stdout",
     "output_type": "stream",
     "text": [
      "+---------+-------+------------+-------------+\n",
      "| Contract|AppName|         Mac|TotalDuration|\n",
      "+---------+-------+------------+-------------+\n",
      "|HNH579912|  KPLUS|0C96E62FC55C|          254|\n",
      "|HUFD40665|  KPLUS|CCEDDC333614|         1457|\n",
      "|HNH572635|  KPLUS|B068E6A1C5F6|         2318|\n",
      "|HND141717|  KPLUS|08674EE8D2C2|         1452|\n",
      "|HNH743103|  KPLUS|402343C25D7D|          251|\n",
      "|HNH893773|  KPLUS|B84DEE76D3B8|          924|\n",
      "|HND083642|  KPLUS|B84DEE849A0F|         1444|\n",
      "|DNFD74404|  KPLUS|90324BB44C39|          691|\n",
      "|DTFD21200|  KPLUS|B84DEED27709|         1436|\n",
      "|LDFD05747|  KPLUS|0C96E6C95E53|         1434|\n",
      "|HNH063566|  KPLUS|B84DEEDD1C85|          687|\n",
      "|HNH866786|  KPLUS|10394E2790A5|          248|\n",
      "|NBAAA1128|  KPLUS|10394E47C1AF|          247|\n",
      "|HNH960439|  KPLUS|B84DEED34371|          683|\n",
      "|HNJ035736|  KPLUS|CCD4A1FA86A5|          246|\n",
      "|NTFD93673|  KPLUS|B84DEEEF4763|         2288|\n",
      "|HNJ063267|  KPLUS|10394E172CA7|         2282|\n",
      "|HNH790383|  KPLUS|4CEBBD53378B|          906|\n",
      "|THFD12466|  KPLUS|5CEA1D893E1C|          242|\n",
      "|HNH566080|  KPLUS|802BF9E0DDC0|          242|\n",
      "+---------+-------+------------+-------------+\n",
      "only showing top 20 rows\n",
      "\n"
     ]
    }
   ],
   "source": [
    "df.show()"
   ]
  },
  {
   "cell_type": "code",
   "execution_count": 16,
   "metadata": {},
   "outputs": [
    {
     "data": {
      "text/plain": [
       "[Row(Contract='HNH579912', AppName='KPLUS', Mac='0C96E62FC55C', TotalDuration=254)]"
      ]
     },
     "execution_count": 16,
     "metadata": {},
     "output_type": "execute_result"
    }
   ],
   "source": [
    "df.take(1)"
   ]
  },
  {
   "cell_type": "code",
   "execution_count": 17,
   "metadata": {},
   "outputs": [
    {
     "name": "stdout",
     "output_type": "stream",
     "text": [
      "== Physical Plan ==\n",
      "*(1) Project [_source#11.Contract AS Contract#158, _source#11.AppName AS AppName#159, _source#11.Mac AS Mac#160, _source#11.TotalDuration AS TotalDuration#161L]\n",
      "+- FileScan json [_source#11] Batched: false, DataFilters: [], Format: JSON, Location: InMemoryFileIndex(1 paths)[file:/opt/workspace/data/20220401.json], PartitionFilters: [], PushedFilters: [], ReadSchema: struct<_source:struct<AppName:string,Contract:string,Mac:string,TotalDuration:bigint>>\n",
      "\n",
      "\n"
     ]
    }
   ],
   "source": [
    "df.explain()"
   ]
  },
  {
   "cell_type": "code",
   "execution_count": 19,
   "metadata": {},
   "outputs": [
    {
     "name": "stderr",
     "output_type": "stream",
     "text": [
      "                                                                                \r"
     ]
    },
    {
     "data": {
      "text/plain": [
       "[Row(Contract='HNH579912', AppName='KPLUS', Mac='0C96E62FC55C', TotalDuration=254),\n",
       " Row(Contract='HUFD40665', AppName='KPLUS', Mac='CCEDDC333614', TotalDuration=1457),\n",
       " Row(Contract='HNH572635', AppName='KPLUS', Mac='B068E6A1C5F6', TotalDuration=2318),\n",
       " Row(Contract='HND141717', AppName='KPLUS', Mac='08674EE8D2C2', TotalDuration=1452),\n",
       " Row(Contract='HNH743103', AppName='KPLUS', Mac='402343C25D7D', TotalDuration=251),\n",
       " Row(Contract='HNH893773', AppName='KPLUS', Mac='B84DEE76D3B8', TotalDuration=924),\n",
       " Row(Contract='HND083642', AppName='KPLUS', Mac='B84DEE849A0F', TotalDuration=1444),\n",
       " Row(Contract='DNFD74404', AppName='KPLUS', Mac='90324BB44C39', TotalDuration=691),\n",
       " Row(Contract='DTFD21200', AppName='KPLUS', Mac='B84DEED27709', TotalDuration=1436),\n",
       " Row(Contract='LDFD05747', AppName='KPLUS', Mac='0C96E6C95E53', TotalDuration=1434)]"
      ]
     },
     "execution_count": 19,
     "metadata": {},
     "output_type": "execute_result"
    }
   ],
   "source": [
    "df.rdd.take(10)"
   ]
  },
  {
   "cell_type": "code",
   "execution_count": 20,
   "metadata": {},
   "outputs": [
    {
     "name": "stderr",
     "output_type": "stream",
     "text": [
      "[Stage 12:===========================================>              (3 + 1) / 4]\r"
     ]
    },
    {
     "name": "stdout",
     "output_type": "stream",
     "text": [
      "+---------------+------------------+\n",
      "|count(Contract)|sum(TotalDuration)|\n",
      "+---------------+------------------+\n",
      "|        1654519|       26038134476|\n",
      "+---------------+------------------+\n",
      "\n"
     ]
    },
    {
     "name": "stderr",
     "output_type": "stream",
     "text": [
      "                                                                                \r"
     ]
    }
   ],
   "source": [
    "df.agg({'Contract':'count','TotalDuration':'sum'}).show()"
   ]
  },
  {
   "cell_type": "code",
   "execution_count": 21,
   "metadata": {},
   "outputs": [
    {
     "data": {
      "text/plain": [
       "DataFrame[Contract: string, count(Contract): bigint, sum(TotalDuration): bigint]"
      ]
     },
     "execution_count": 21,
     "metadata": {},
     "output_type": "execute_result"
    }
   ],
   "source": [
    "test = df.groupBy('Contract').agg({'Contract':'count','TotalDuration':'sum'})\n",
    "test"
   ]
  },
  {
   "cell_type": "code",
   "execution_count": 22,
   "metadata": {},
   "outputs": [
    {
     "data": {
      "text/plain": [
       "DataFrame[Contract: string, count(Contract): bigint, sum(TotalDuration): bigint]"
      ]
     },
     "execution_count": 22,
     "metadata": {},
     "output_type": "execute_result"
    }
   ],
   "source": [
    "test = test.orderBy('sum(TotalDuration)',ascending=False)\n",
    "test"
   ]
  },
  {
   "cell_type": "code",
   "execution_count": 23,
   "metadata": {},
   "outputs": [
    {
     "name": "stdout",
     "output_type": "stream",
     "text": [
      "== Physical Plan ==\n",
      "AdaptiveSparkPlan isFinalPlan=false\n",
      "+- Sort [sum(TotalDuration)#221L DESC NULLS LAST], true, 0\n",
      "   +- Exchange rangepartitioning(sum(TotalDuration)#221L DESC NULLS LAST, 200), ENSURE_REQUIREMENTS, [id=#184]\n",
      "      +- HashAggregate(keys=[Contract#158], functions=[count(Contract#158), sum(TotalDuration#161L)])\n",
      "         +- Exchange hashpartitioning(Contract#158, 200), ENSURE_REQUIREMENTS, [id=#181]\n",
      "            +- HashAggregate(keys=[Contract#158], functions=[partial_count(Contract#158), partial_sum(TotalDuration#161L)])\n",
      "               +- Project [_source#11.Contract AS Contract#158, _source#11.TotalDuration AS TotalDuration#161L]\n",
      "                  +- FileScan json [_source#11] Batched: false, DataFilters: [], Format: JSON, Location: InMemoryFileIndex(1 paths)[file:/opt/workspace/data/20220401.json], PartitionFilters: [], PushedFilters: [], ReadSchema: struct<_source:struct<AppName:string,Contract:string,Mac:string,TotalDuration:bigint>>\n",
      "\n",
      "\n"
     ]
    }
   ],
   "source": [
    "test.explain()"
   ]
  },
  {
   "cell_type": "code",
   "execution_count": 24,
   "metadata": {},
   "outputs": [
    {
     "name": "stderr",
     "output_type": "stream",
     "text": [
      "[Stage 17:>                                                         (0 + 4) / 4]\r"
     ]
    },
    {
     "name": "stdout",
     "output_type": "stream",
     "text": [
      "+---------+---------------+------------------+\n",
      "| Contract|count(Contract)|sum(TotalDuration)|\n",
      "+---------+---------------+------------------+\n",
      "|        0|          21120|         519546866|\n",
      "|BDD044379|             44|            797188|\n",
      "|BLFD00046|             39|            620372|\n",
      "|BDFD58200|             34|            618478|\n",
      "|DNFD92311|             25|            593052|\n",
      "|HNH718815|             24|            441310|\n",
      "|SGH336949|             28|            359376|\n",
      "|HDD028047|              4|            335976|\n",
      "|HUFD20139|             13|            295149|\n",
      "|HNH789345|              5|            288479|\n",
      "|BTD005239|              5|            285906|\n",
      "|HPD057745|              4|            280767|\n",
      "|HNFD93301|              5|            268680|\n",
      "|NTFD57123|             21|            267303|\n",
      "|CBFD02956|              4|            264721|\n",
      "|NBFD21210|             10|            261646|\n",
      "|SGH434760|             17|            261610|\n",
      "|HND314565|              3|            259200|\n",
      "|HPH005712|              3|            259200|\n",
      "|LSFD03801|              3|            259200|\n",
      "+---------+---------------+------------------+\n",
      "only showing top 20 rows\n",
      "\n"
     ]
    },
    {
     "name": "stderr",
     "output_type": "stream",
     "text": [
      "                                                                                \r"
     ]
    }
   ],
   "source": [
    "test.show()"
   ]
  },
  {
   "cell_type": "code",
   "execution_count": 25,
   "metadata": {},
   "outputs": [
    {
     "name": "stderr",
     "output_type": "stream",
     "text": [
      "[Stage 18:===========================================>              (3 + 1) / 4]\r"
     ]
    },
    {
     "name": "stdout",
     "output_type": "stream",
     "text": [
      "+-------+\n",
      "|AppName|\n",
      "+-------+\n",
      "|  KPLUS|\n",
      "|  RELAX|\n",
      "|  CHILD|\n",
      "|CHANNEL|\n",
      "|    VOD|\n",
      "|   FIMS|\n",
      "|  SPORT|\n",
      "+-------+\n",
      "\n"
     ]
    },
    {
     "name": "stderr",
     "output_type": "stream",
     "text": [
      "                                                                                \r"
     ]
    }
   ],
   "source": [
    "df.select('AppName').distinct().show()"
   ]
  },
  {
   "cell_type": "code",
   "execution_count": 27,
   "metadata": {},
   "outputs": [
    {
     "name": "stderr",
     "output_type": "stream",
     "text": [
      "                                                                                \r"
     ]
    },
    {
     "data": {
      "text/plain": [
       "1654519"
      ]
     },
     "execution_count": 27,
     "metadata": {},
     "output_type": "execute_result"
    }
   ],
   "source": [
    "df.count()"
   ]
  },
  {
   "cell_type": "code",
   "execution_count": 28,
   "metadata": {},
   "outputs": [],
   "source": [
    "import time"
   ]
  },
  {
   "cell_type": "code",
   "execution_count": 38,
   "metadata": {},
   "outputs": [
    {
     "name": "stderr",
     "output_type": "stream",
     "text": [
      "                                                                                \r"
     ]
    },
    {
     "name": "stdout",
     "output_type": "stream",
     "text": [
      "+---------+-----------+------------+-------------+\n",
      "| Contract|   Category|         Mac|TotalDuration|\n",
      "+---------+-----------+------------+-------------+\n",
      "|HNH579912|Truyền Hình|0C96E62FC55C|          254|\n",
      "|HUFD40665|Truyền Hình|CCEDDC333614|         1457|\n",
      "|HNH572635|Truyền Hình|B068E6A1C5F6|         2318|\n",
      "|HND141717|Truyền Hình|08674EE8D2C2|         1452|\n",
      "|HNH743103|Truyền Hình|402343C25D7D|          251|\n",
      "|HNH893773|Truyền Hình|B84DEE76D3B8|          924|\n",
      "|HND083642|Truyền Hình|B84DEE849A0F|         1444|\n",
      "|DNFD74404|Truyền Hình|90324BB44C39|          691|\n",
      "|DTFD21200|Truyền Hình|B84DEED27709|         1436|\n",
      "|LDFD05747|Truyền Hình|0C96E6C95E53|         1434|\n",
      "|HNH063566|Truyền Hình|B84DEEDD1C85|          687|\n",
      "|HNH866786|Truyền Hình|10394E2790A5|          248|\n",
      "|NBAAA1128|Truyền Hình|10394E47C1AF|          247|\n",
      "|HNH960439|Truyền Hình|B84DEED34371|          683|\n",
      "|HNJ035736|Truyền Hình|CCD4A1FA86A5|          246|\n",
      "|NTFD93673|Truyền Hình|B84DEEEF4763|         2288|\n",
      "|HNJ063267|Truyền Hình|10394E172CA7|         2282|\n",
      "|HNH790383|Truyền Hình|4CEBBD53378B|          906|\n",
      "|THFD12466|Truyền Hình|5CEA1D893E1C|          242|\n",
      "|HNH566080|Truyền Hình|802BF9E0DDC0|          242|\n",
      "+---------+-----------+------------+-------------+\n",
      "only showing top 20 rows\n",
      "\n",
      "--- 0.417513370513916 seconds ---\n"
     ]
    }
   ],
   "source": [
    "start_time = time.time()\n",
    "stateDic={'CHANNEL':'Truyền Hình','DSHD':'Truyền Hình', 'KPLUS':'Truyền Hình','VOD' : 'Phim truyen', 'FIMS': 'Phim truyen','SPORT': 'The thao', 'RELAX': 'Giai tri','CHILD': 'Thieu nhi'  }\n",
    "data=df.rdd.map(lambda x: (x.Contract,stateDic[x.AppName], x.Mac, x.TotalDuration)).toDF([\"Contract\",\"Category\",\"Mac\",\"TotalDuration\"])\n",
    "data.show()\n",
    "print(\"--- %s seconds ---\" % (time.time() - start_time))"
   ]
  },
  {
   "cell_type": "code",
   "execution_count": 40,
   "metadata": {},
   "outputs": [
    {
     "data": {
      "text/plain": [
       "pyspark.sql.dataframe.DataFrame"
      ]
     },
     "execution_count": 40,
     "metadata": {},
     "output_type": "execute_result"
    }
   ],
   "source": [
    "type(df)"
   ]
  },
  {
   "cell_type": "code",
   "execution_count": 41,
   "metadata": {},
   "outputs": [],
   "source": [
    "from pyspark.sql.functions import col\n",
    "from pyspark.sql.functions import when\n",
    "import pyspark.sql.functions as sf"
   ]
  },
  {
   "cell_type": "code",
   "execution_count": 42,
   "metadata": {},
   "outputs": [
    {
     "name": "stdout",
     "output_type": "stream",
     "text": [
      "+---------+-------+------------+-------------+-----------+\n",
      "| Contract|AppName|         Mac|TotalDuration|       Type|\n",
      "+---------+-------+------------+-------------+-----------+\n",
      "|HNH579912|  KPLUS|0C96E62FC55C|          254|Truyền Hình|\n",
      "|HUFD40665|  KPLUS|CCEDDC333614|         1457|Truyền Hình|\n",
      "|HNH572635|  KPLUS|B068E6A1C5F6|         2318|Truyền Hình|\n",
      "|HND141717|  KPLUS|08674EE8D2C2|         1452|Truyền Hình|\n",
      "|HNH743103|  KPLUS|402343C25D7D|          251|Truyền Hình|\n",
      "|HNH893773|  KPLUS|B84DEE76D3B8|          924|Truyền Hình|\n",
      "|HND083642|  KPLUS|B84DEE849A0F|         1444|Truyền Hình|\n",
      "|DNFD74404|  KPLUS|90324BB44C39|          691|Truyền Hình|\n",
      "|DTFD21200|  KPLUS|B84DEED27709|         1436|Truyền Hình|\n",
      "|LDFD05747|  KPLUS|0C96E6C95E53|         1434|Truyền Hình|\n",
      "|HNH063566|  KPLUS|B84DEEDD1C85|          687|Truyền Hình|\n",
      "|HNH866786|  KPLUS|10394E2790A5|          248|Truyền Hình|\n",
      "|NBAAA1128|  KPLUS|10394E47C1AF|          247|Truyền Hình|\n",
      "|HNH960439|  KPLUS|B84DEED34371|          683|Truyền Hình|\n",
      "|HNJ035736|  KPLUS|CCD4A1FA86A5|          246|Truyền Hình|\n",
      "|NTFD93673|  KPLUS|B84DEEEF4763|         2288|Truyền Hình|\n",
      "|HNJ063267|  KPLUS|10394E172CA7|         2282|Truyền Hình|\n",
      "|HNH790383|  KPLUS|4CEBBD53378B|          906|Truyền Hình|\n",
      "|THFD12466|  KPLUS|5CEA1D893E1C|          242|Truyền Hình|\n",
      "|HNH566080|  KPLUS|802BF9E0DDC0|          242|Truyền Hình|\n",
      "+---------+-------+------------+-------------+-----------+\n",
      "only showing top 20 rows\n",
      "\n",
      "--- 0.4006314277648926 seconds ---\n"
     ]
    }
   ],
   "source": [
    "start_time = time.time()\n",
    "data1 = df.withColumn(\"Type\",\n",
    "       when((col(\"AppName\") == 'CHANNEL') | (col(\"AppName\") =='DSHD')| (col(\"AppName\") =='KPLUS')| (col(\"AppName\") =='KPlus'), \"Truyền Hình\")\n",
    "      .when((col(\"AppName\") == 'VOD') | (col(\"AppName\") =='FIMS_RES')| (col(\"AppName\") =='BHD_RES')| (col(\"AppName\") =='VOD_RES')| (col(\"AppName\") =='FIMS')| (col(\"AppName\") =='BHD')| (col(\"AppName\") =='DANET'), \"Phim Truyện\")\n",
    "      .when((col(\"AppName\") == 'RELAX'), \"Giải Trí\")\n",
    "      .when((col(\"AppName\") == 'CHILD'), \"Thiếu Nhi\")\n",
    "      .when((col(\"AppName\") == 'SPORT'), \"Thể Thao\")\n",
    "      .otherwise(\"Error\"))\n",
    "data1.show()\n",
    "print(\"--- %s seconds ---\" % (time.time() - start_time))"
   ]
  },
  {
   "cell_type": "code",
   "execution_count": 45,
   "metadata": {},
   "outputs": [
    {
     "name": "stdout",
     "output_type": "stream",
     "text": [
      "+---------+-------+------------+-------------+-----------+\n",
      "| Contract|AppName|         Mac|TotalDuration|       Type|\n",
      "+---------+-------+------------+-------------+-----------+\n",
      "|HNH579912|  KPLUS|0C96E62FC55C|          254|Truyền Hình|\n",
      "|HUFD40665|  KPLUS|CCEDDC333614|         1457|Truyền Hình|\n",
      "|HNH572635|  KPLUS|B068E6A1C5F6|         2318|Truyền Hình|\n",
      "|HND141717|  KPLUS|08674EE8D2C2|         1452|Truyền Hình|\n",
      "|HNH743103|  KPLUS|402343C25D7D|          251|Truyền Hình|\n",
      "|HNH893773|  KPLUS|B84DEE76D3B8|          924|Truyền Hình|\n",
      "|HND083642|  KPLUS|B84DEE849A0F|         1444|Truyền Hình|\n",
      "|DNFD74404|  KPLUS|90324BB44C39|          691|Truyền Hình|\n",
      "|DTFD21200|  KPLUS|B84DEED27709|         1436|Truyền Hình|\n",
      "|LDFD05747|  KPLUS|0C96E6C95E53|         1434|Truyền Hình|\n",
      "|HNH063566|  KPLUS|B84DEEDD1C85|          687|Truyền Hình|\n",
      "|HNH866786|  KPLUS|10394E2790A5|          248|Truyền Hình|\n",
      "|NBAAA1128|  KPLUS|10394E47C1AF|          247|Truyền Hình|\n",
      "|HNH960439|  KPLUS|B84DEED34371|          683|Truyền Hình|\n",
      "|HNJ035736|  KPLUS|CCD4A1FA86A5|          246|Truyền Hình|\n",
      "|NTFD93673|  KPLUS|B84DEEEF4763|         2288|Truyền Hình|\n",
      "|HNJ063267|  KPLUS|10394E172CA7|         2282|Truyền Hình|\n",
      "|HNH790383|  KPLUS|4CEBBD53378B|          906|Truyền Hình|\n",
      "|THFD12466|  KPLUS|5CEA1D893E1C|          242|Truyền Hình|\n",
      "|HNH566080|  KPLUS|802BF9E0DDC0|          242|Truyền Hình|\n",
      "+---------+-------+------------+-------------+-----------+\n",
      "only showing top 20 rows\n",
      "\n"
     ]
    }
   ],
   "source": [
    "data1.show()"
   ]
  },
  {
   "cell_type": "code",
   "execution_count": 46,
   "metadata": {},
   "outputs": [
    {
     "name": "stderr",
     "output_type": "stream",
     "text": [
      "/opt/bitnami/spark/python/pyspark/sql/dataframe.py:229: FutureWarning: Deprecated in 2.0, use createOrReplaceTempView instead.\n",
      "  warnings.warn(\"Deprecated in 2.0, use createOrReplaceTempView instead.\", FutureWarning)\n"
     ]
    }
   ],
   "source": [
    "data1.registerTempTable(\"data\")"
   ]
  },
  {
   "cell_type": "code",
   "execution_count": 48,
   "metadata": {},
   "outputs": [
    {
     "name": "stderr",
     "output_type": "stream",
     "text": [
      "[Stage 34:>                                                         (0 + 4) / 4]\r"
     ]
    },
    {
     "name": "stdout",
     "output_type": "stream",
     "text": [
      "+--------+\n",
      "|count(1)|\n",
      "+--------+\n",
      "| 1654519|\n",
      "+--------+\n",
      "\n"
     ]
    },
    {
     "name": "stderr",
     "output_type": "stream",
     "text": [
      "                                                                                \r"
     ]
    }
   ],
   "source": [
    "spark.sql(\"select count(*) from data\").show()"
   ]
  },
  {
   "cell_type": "code",
   "execution_count": 49,
   "metadata": {},
   "outputs": [
    {
     "name": "stderr",
     "output_type": "stream",
     "text": [
      "[Stage 37:>                                                         (0 + 4) / 4]\r"
     ]
    },
    {
     "name": "stdout",
     "output_type": "stream",
     "text": [
      "+-------+\n",
      "|AppName|\n",
      "+-------+\n",
      "|  KPLUS|\n",
      "|  RELAX|\n",
      "|  CHILD|\n",
      "|   FIMS|\n",
      "|CHANNEL|\n",
      "|  SPORT|\n",
      "|    VOD|\n",
      "+-------+\n",
      "\n"
     ]
    },
    {
     "name": "stderr",
     "output_type": "stream",
     "text": [
      "                                                                                \r"
     ]
    }
   ],
   "source": [
    "spark.sql(\"select distinct AppName from data\").show()"
   ]
  },
  {
   "cell_type": "code",
   "execution_count": 50,
   "metadata": {},
   "outputs": [
    {
     "data": {
      "text/plain": [
       "DataFrame[Contract: string, AppName: string, Mac: string, TotalDuration: bigint, Type: string]"
      ]
     },
     "execution_count": 50,
     "metadata": {},
     "output_type": "execute_result"
    }
   ],
   "source": [
    "data1"
   ]
  },
  {
   "cell_type": "code",
   "execution_count": 52,
   "metadata": {},
   "outputs": [],
   "source": [
    "from pyspark.sql.types import IntegerType\n",
    "from pyspark.sql.functions import sum"
   ]
  },
  {
   "cell_type": "code",
   "execution_count": 53,
   "metadata": {},
   "outputs": [],
   "source": [
    "calculation = data1.groupBy(\"Contract\",\"AppName\").agg(sum(\"TotalDuration\").alias(\"sum(TotalDuration)\")).withColumnRenamed(\"sum(TotalDuration)\", \"TotalDuration\")"
   ]
  },
  {
   "cell_type": "code",
   "execution_count": 56,
   "metadata": {},
   "outputs": [],
   "source": [
    "ketqua = calculation.filter((calculation.Contract != '0') & (calculation.Contract != ''))"
   ]
  },
  {
   "cell_type": "code",
   "execution_count": 54,
   "metadata": {},
   "outputs": [
    {
     "name": "stderr",
     "output_type": "stream",
     "text": [
      "[Stage 40:==============>                                           (1 + 3) / 4]\r"
     ]
    },
    {
     "name": "stdout",
     "output_type": "stream",
     "text": [
      "+---------+-------+-------------+\n",
      "| Contract|AppName|TotalDuration|\n",
      "+---------+-------+-------------+\n",
      "|VTFD51030|  CHILD|        50140|\n",
      "|NDFD37970|CHANNEL|        16065|\n",
      "|QNFD95066|CHANNEL|           15|\n",
      "|SGH741879|CHANNEL|          482|\n",
      "|HPFD41893|CHANNEL|        16277|\n",
      "|HDFD34350|CHANNEL|           14|\n",
      "|DLFD17920|CHANNEL|           46|\n",
      "|NNFD05565|CHANNEL|           14|\n",
      "|BNFD72526|CHANNEL|         4979|\n",
      "|SGH448088|CHANNEL|         4868|\n",
      "|THFD29174|CHANNEL|        26918|\n",
      "|DNH036042|CHANNEL|          446|\n",
      "|SGD642703|CHANNEL|          430|\n",
      "|HNH444743|CHANNEL|        31769|\n",
      "|HDFD87886|CHANNEL|           18|\n",
      "|NTD041848|CHANNEL|          414|\n",
      "|LDD033791|CHANNEL|         4889|\n",
      "|QNFD65225|CHANNEL|         4919|\n",
      "|QNFD61149|CHANNEL|         5076|\n",
      "|SGH526566|CHANNEL|           18|\n",
      "+---------+-------+-------------+\n",
      "only showing top 20 rows\n",
      "\n"
     ]
    },
    {
     "name": "stderr",
     "output_type": "stream",
     "text": [
      "                                                                                \r"
     ]
    }
   ],
   "source": [
    "calculation.show()"
   ]
  },
  {
   "cell_type": "code",
   "execution_count": 55,
   "metadata": {},
   "outputs": [
    {
     "name": "stderr",
     "output_type": "stream",
     "text": [
      "                                                                                \r"
     ]
    },
    {
     "data": {
      "text/plain": [
       "1499655"
      ]
     },
     "execution_count": 55,
     "metadata": {},
     "output_type": "execute_result"
    }
   ],
   "source": [
    "calculation.count()"
   ]
  },
  {
   "cell_type": "code",
   "execution_count": 57,
   "metadata": {},
   "outputs": [
    {
     "name": "stderr",
     "output_type": "stream",
     "text": [
      "                                                                                \r"
     ]
    },
    {
     "data": {
      "text/plain": [
       "1499653"
      ]
     },
     "execution_count": 57,
     "metadata": {},
     "output_type": "execute_result"
    }
   ],
   "source": [
    "ketqua.count()"
   ]
  }
 ],
 "metadata": {
  "kernelspec": {
   "display_name": "Python 3 (ipykernel)",
   "language": "python",
   "name": "python3"
  },
  "vscode": {
   "interpreter": {
    "hash": "2f155fbeb9494e5ce992090b8427abe3542dae7719d8ea0d05cb0b78608edd18"
   }
  }
 },
 "nbformat": 4,
 "nbformat_minor": 4
}
