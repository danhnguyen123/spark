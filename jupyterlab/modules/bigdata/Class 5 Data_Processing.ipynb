{
 "cells": [
  {
   "cell_type": "code",
   "execution_count": 1,
   "metadata": {},
   "outputs": [],
   "source": [
    "from pyspark.sql import SparkSession\n",
    "from pyspark.sql import SQLContext\n",
    "from pyspark.sql.functions import when\n",
    "from pyspark.sql.functions import col\n",
    "from pyspark.sql.types import * \n",
    "from pyspark.sql.functions import lit\n",
    "import pyodbc\n",
    "import pandas as pd\n",
    "import pyspark.sql.functions as sf\n"
   ]
  },
  {
   "cell_type": "code",
   "execution_count": 2,
   "metadata": {},
   "outputs": [],
   "source": [
    "spark = SparkSession.builder.config(\"spark.driver.memory\", \"15g\").getOrCreate()"
   ]
  },
  {
   "cell_type": "code",
   "execution_count": 3,
   "metadata": {},
   "outputs": [],
   "source": [
    "def process_log_data(path,file_name,date):\n",
    "    df = spark.read.json(path+file_name)\n",
    "    df = df.select('_source.AppName','_source.Contract','_source.Mac','_source.TotalDuration')\n",
    "    df = df.withColumn('Date',lit(date))\n",
    "    df = df.withColumn('Type',\n",
    "                 when((col(\"AppName\") == 'CHANNEL') | (col(\"AppName\") =='DSHD')| (col(\"AppName\") =='KPLUS')| (col(\"AppName\") =='KPlus'), \"Truyền Hình\")\n",
    "          .when((col(\"AppName\") == 'VOD') | (col(\"AppName\") =='FIMS_RES')| (col(\"AppName\") =='BHD_RES')| \n",
    "                 (col(\"AppName\") =='VOD_RES')| (col(\"AppName\") =='FIMS')| (col(\"AppName\") =='BHD')| (col(\"AppName\") =='DANET'), \"Phim Truyện\")\n",
    "          .when((col(\"AppName\") == 'RELAX'), \"Giải Trí\")\n",
    "          .when((col(\"AppName\") == 'CHILD'), \"Thiếu Nhi\")\n",
    "          .when((col(\"AppName\") == 'SPORT'), \"Thể Thao\")\n",
    "          .otherwise(\"Error\"))\n",
    "    df = df.select('Contract','Type','TotalDuration','Date')\n",
    "    df = df.groupBy('Contract','Type','Date').agg({'TotalDuration':'sum'}).withColumnRenamed('sum(TotalDuration)','TotalDuration')\n",
    "    return df "
   ]
  },
  {
   "cell_type": "code",
   "execution_count": 4,
   "metadata": {},
   "outputs": [],
   "source": [
    "def main_task():\n",
    "    path = 'C:\\\\Users\\\\ASUS\\\\OneDrive\\\\Big_Data_Analytics\\\\Dataset\\\\'\n",
    "    file_name = '20220401.json'\n",
    "    date = '2022-04-01'\n",
    "    df = process_log_data(path,file_name,date)\n",
    "    i = 2 \n",
    "    while i < 10:\n",
    "        file_name = '2022040{}.json'.format(i)\n",
    "        date = '2022-04-0{}'.format(i)\n",
    "        df1 = process_log_data(path,file_name,date)\n",
    "        df = df.union(df1)\n",
    "        i+= 1 \n",
    "    while i <= 30: \n",
    "        file_name = '202204{}.json'.format(i)\n",
    "        date = '2022-04-{}'.format(i)\n",
    "        df1 = process_log_data(path,file_name,date)\n",
    "        df = df.union(df1)\n",
    "        i += 1 \n",
    "    return df "
   ]
  },
  {
   "cell_type": "code",
   "execution_count": 8,
   "metadata": {},
   "outputs": [],
   "source": [
    "def process_daily_statistic(df):\n",
    "    daily_statistic = df.groupBy('Date','Type').agg({'TotalDuration':'sum','Contract':'count'}).withColumnRenamed('sum(TotalDuration)','TotalDuration').withColumnRenamed('count(Contract)','TotalUsers')\n",
    "    daily_statistics = daily_statistic.withColumn('TotalDuration',col('TotalDuration')/3600)\n",
    "    return daily_statistics\n"
   ]
  },
  {
   "cell_type": "code",
   "execution_count": 5,
   "metadata": {},
   "outputs": [],
   "source": [
    "df = main_task() "
   ]
  },
  {
   "cell_type": "code",
   "execution_count": 6,
   "metadata": {},
   "outputs": [],
   "source": [
    "df = df.drop('Date')"
   ]
  },
  {
   "cell_type": "code",
   "execution_count": 7,
   "metadata": {},
   "outputs": [],
   "source": [
    "df = df.groupBy('Contract','Type').agg({'TotalDuration':'sum'}).withColumnRenamed('sum(TotalDuration)','TotalDuration')"
   ]
  },
  {
   "cell_type": "code",
   "execution_count": 9,
   "metadata": {},
   "outputs": [],
   "source": [
    "df = df.filter(df.Type != 'Error')"
   ]
  },
  {
   "cell_type": "code",
   "execution_count": 12,
   "metadata": {},
   "outputs": [
    {
     "data": {
      "text/plain": [
       "['Contract', 'Type', 'TotalDuration']"
      ]
     },
     "execution_count": 12,
     "metadata": {},
     "output_type": "execute_result"
    }
   ],
   "source": [
    "df.columns"
   ]
  },
  {
   "cell_type": "code",
   "execution_count": 14,
   "metadata": {},
   "outputs": [],
   "source": [
    "TV = df.filter(df.Type=='Truyền Hình').drop('Type')\n",
    "Sport = df.filter(df.Type=='Thể Thao').drop('Type')\n",
    "Movie = df.filter(df.Type=='Phim Truyện').drop('Type')\n",
    "Child = df.filter(df.Type=='Thiếu Nhi').drop('Type')\n",
    "Relax = df.filter(df.Type=='Giải Trí').drop('Type')"
   ]
  },
  {
   "cell_type": "code",
   "execution_count": 16,
   "metadata": {},
   "outputs": [],
   "source": [
    "TV = TV.withColumnRenamed('TotalDuration','TVDuration')\n",
    "Sport = Sport.withColumnRenamed('TotalDuration','SportDuration')\n",
    "Child = Child.withColumnRenamed('TotalDuration','ChildDuration')\n",
    "Relax = Relax.withColumnRenamed('TotalDuration','RelaxDuration')\n",
    "Movie = Movie.withColumnRenamed('TotalDuration','MovieDuration')"
   ]
  },
  {
   "cell_type": "code",
   "execution_count": 17,
   "metadata": {},
   "outputs": [],
   "source": [
    "result = TV.join(Sport, ['Contract'], how='full').join(Movie,['Contract'],how ='full').join(Child,['Contract'],how ='full').join(Relax,['Contract'],how ='full')"
   ]
  },
  {
   "cell_type": "code",
   "execution_count": 19,
   "metadata": {},
   "outputs": [],
   "source": [
    "result = result.withColumn(\"Date\",lit('2022-04-01'))"
   ]
  },
  {
   "cell_type": "code",
   "execution_count": 20,
   "metadata": {},
   "outputs": [
    {
     "name": "stdout",
     "output_type": "stream",
     "text": [
      "root\n",
      " |-- Contract: string (nullable = true)\n",
      " |-- TVDuration: long (nullable = true)\n",
      " |-- SportDuration: long (nullable = true)\n",
      " |-- MovieDuration: long (nullable = true)\n",
      " |-- ChildDuration: long (nullable = true)\n",
      " |-- RelaxDuration: long (nullable = true)\n",
      " |-- Date: string (nullable = false)\n",
      "\n"
     ]
    }
   ],
   "source": [
    "result.printSchema()"
   ]
  },
  {
   "cell_type": "code",
   "execution_count": 21,
   "metadata": {},
   "outputs": [
    {
     "name": "stdout",
     "output_type": "stream",
     "text": [
      "+---------+----------+-------------+-------------+-------------+-------------+----------+\n",
      "| Contract|TVDuration|SportDuration|MovieDuration|ChildDuration|RelaxDuration|      Date|\n",
      "+---------+----------+-------------+-------------+-------------+-------------+----------+\n",
      "|AGAAA0848|     12141|         null|         null|         null|         null|2022-04-01|\n",
      "|AGAAA1147|   1299590|         null|         null|         null|          103|2022-04-01|\n",
      "|AGAAA1282|    168792|         null|         null|          427|         null|2022-04-01|\n",
      "|AGAAA1992|     75782|         null|         null|         null|         null|2022-04-01|\n",
      "|AGAAA2588|   1078595|         null|         null|         null|         null|2022-04-01|\n",
      "|AGAAA3255|     21636|         null|           22|           36|         null|2022-04-01|\n",
      "|AGD003807|      4352|         null|       153369|          164|         null|2022-04-01|\n",
      "|AGD004253|    264972|         null|         null|         null|         null|2022-04-01|\n",
      "|AGD008179|    115222|         null|       135699|         null|        13225|2022-04-01|\n",
      "|AGD011212|    308980|         null|         3799|         null|         null|2022-04-01|\n",
      "+---------+----------+-------------+-------------+-------------+-------------+----------+\n",
      "only showing top 10 rows\n",
      "\n"
     ]
    }
   ],
   "source": [
    "result.show(10)"
   ]
  },
  {
   "cell_type": "code",
   "execution_count": 22,
   "metadata": {},
   "outputs": [],
   "source": [
    "result.coalesce(1).write.option(\"header\", \"true\").csv(\"T4Duration.csv\")"
   ]
  }
 ],
 "metadata": {
  "kernelspec": {
   "display_name": "Python 3",
   "language": "python",
   "name": "python3"
  },
  "language_info": {
   "codemirror_mode": {
    "name": "ipython",
    "version": 3
   },
   "file_extension": ".py",
   "mimetype": "text/x-python",
   "name": "python",
   "nbconvert_exporter": "python",
   "pygments_lexer": "ipython3",
   "version": "3.8.3"
  }
 },
 "nbformat": 4,
 "nbformat_minor": 4
}
